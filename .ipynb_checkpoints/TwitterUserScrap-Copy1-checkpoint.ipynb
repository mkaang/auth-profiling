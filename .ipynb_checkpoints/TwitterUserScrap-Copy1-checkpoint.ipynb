{
 "cells": [
  {
   "cell_type": "code",
   "execution_count": 65,
   "id": "6583bfd2",
   "metadata": {},
   "outputs": [],
   "source": [
    "from time import sleep\n",
    "from time import time\n",
    "\n",
    "# For opening the webpage and use action chains\n",
    "from selenium import webdriver\n",
    "from selenium.webdriver.common.action_chains import ActionChains   \n",
    "from selenium.webdriver.support.ui import WebDriverWait\n",
    "from selenium.webdriver.support import expected_conditions as EC\n",
    "from selenium.webdriver.common.by import By\n",
    "from selenium.webdriver.common.keys import Keys\n",
    "\n",
    "from tqdm.notebook import tqdm\n",
    "\n",
    "# For formatting of the data\n",
    "import pandas as pd\n",
    "import numpy as np\n",
    "\n",
    "from glob import glob"
   ]
  },
  {
   "cell_type": "code",
   "execution_count": 85,
   "id": "ae3cf731",
   "metadata": {},
   "outputs": [
    {
     "name": "stderr",
     "output_type": "stream",
     "text": [
      "<ipython-input-85-f73d83cf79b6>:12: DeprecationWarning: use options instead of chrome_options\n",
      "  driver = webdriver.Chrome(executable_path=path_to_chrome, chrome_options=chromeOptions)\n"
     ]
    }
   ],
   "source": [
    "# Set path to chrome driver on local computer\n",
    "path_to_chrome = r'C:\\Program Files (x86)\\Google\\Chrome\\Application\\chromedriver_win32\\chromedriver_92-Copy.exe'\n",
    "\n",
    "# Here is the base link used by most of the code\n",
    "base_link = \"https://twitter.com/search?q=gazeteci%20filter%3Averified&src=typed_query&f=user\"\n",
    "\n",
    "# Adjust chrome options: navigate download directory, run headless etc.\n",
    "chromeOptions = webdriver.ChromeOptions()\n",
    "chromeOptions.add_argument(\"--disable-notifications\")\n",
    "\n",
    "# First close the driver\n",
    "driver = webdriver.Chrome(executable_path=path_to_chrome, chrome_options=chromeOptions)\n",
    "\n",
    "# Go to the university link\n",
    "driver.get(base_link)\n",
    "driver.maximize_window()"
   ]
  },
  {
   "cell_type": "markdown",
   "id": "4828f614",
   "metadata": {},
   "source": [
    "### Get Usernames and Bios for Given BaseLink"
   ]
  },
  {
   "cell_type": "code",
   "execution_count": 3,
   "id": "870e7fa8",
   "metadata": {},
   "outputs": [],
   "source": [
    "names = []\n",
    "bios = []"
   ]
  },
  {
   "cell_type": "code",
   "execution_count": 60,
   "id": "44de5a37",
   "metadata": {},
   "outputs": [
    {
     "name": "stdout",
     "output_type": "stream",
     "text": [
      "50\r"
     ]
    },
    {
     "data": {
      "text/plain": [
       "(539,)"
      ]
     },
     "execution_count": 60,
     "metadata": {},
     "output_type": "execute_result"
    }
   ],
   "source": [
    "count = 0\n",
    "\n",
    "for _ in range(50):\n",
    "    count = count + 1\n",
    "    print(str(count), end='\\r')\n",
    "    xpath1 = '/html/body/div/div/div/div[2]/main/div/div/div/div[1]/div/div[2]/div/div/section/div/div/div[' + str(count) + ']/div/div/div/div[2]/div[1]'\n",
    "    xpath2 = '/html/body/div/div/div/div[2]/main/div/div/div/div[1]/div/div[2]/div/div/section/div/div/div[' + str(count) + ']/div/div/div/div[2]/div[2]/span'\n",
    "    try:\n",
    "        name = driver.find_element_by_xpath(xpath1).text\n",
    "        bio = driver.find_element_by_xpath(xpath2).text\n",
    "\n",
    "        names.append(name)\n",
    "        bios.append(bio)\n",
    "\n",
    "    except:\n",
    "        pass\n",
    "        \n",
    "#     html = driver.find_element_by_tag_name('html')\n",
    "#     html.send_keys(Keys.PAGE_DOWN)\n",
    "#     WebDriverWait(driver, 7)\n",
    "\n",
    "pd.Series(names).unique().shape"
   ]
  },
  {
   "cell_type": "code",
   "execution_count": 61,
   "id": "c5f469d4",
   "metadata": {
    "collapsed": true
   },
   "outputs": [
    {
     "ename": "AttributeError",
     "evalue": "'list' object has no attribute 'to_csv'",
     "output_type": "error",
     "traceback": [
      "\u001b[1;31m---------------------------------------------------------------------------\u001b[0m",
      "\u001b[1;31mAttributeError\u001b[0m                            Traceback (most recent call last)",
      "\u001b[1;32m<ipython-input-61-bea851cb6919>\u001b[0m in \u001b[0;36m<module>\u001b[1;34m\u001b[0m\n\u001b[0;32m      1\u001b[0m \u001b[0mnames\u001b[0m \u001b[1;33m=\u001b[0m \u001b[0mpd\u001b[0m\u001b[1;33m.\u001b[0m\u001b[0mSeries\u001b[0m\u001b[1;33m(\u001b[0m\u001b[0mnames\u001b[0m\u001b[1;33m)\u001b[0m\u001b[1;33m.\u001b[0m\u001b[0munique\u001b[0m\u001b[1;33m(\u001b[0m\u001b[1;33m)\u001b[0m\u001b[1;33m.\u001b[0m\u001b[0mtolist\u001b[0m\u001b[1;33m(\u001b[0m\u001b[1;33m)\u001b[0m\u001b[1;33m\u001b[0m\u001b[1;33m\u001b[0m\u001b[0m\n\u001b[0;32m      2\u001b[0m \u001b[0mbios\u001b[0m \u001b[1;33m=\u001b[0m \u001b[0mpd\u001b[0m\u001b[1;33m.\u001b[0m\u001b[0mSeries\u001b[0m\u001b[1;33m(\u001b[0m\u001b[0mbios\u001b[0m\u001b[1;33m)\u001b[0m\u001b[1;33m.\u001b[0m\u001b[0munique\u001b[0m\u001b[1;33m(\u001b[0m\u001b[1;33m)\u001b[0m\u001b[1;33m.\u001b[0m\u001b[0mtolist\u001b[0m\u001b[1;33m(\u001b[0m\u001b[1;33m)\u001b[0m\u001b[1;33m\u001b[0m\u001b[1;33m\u001b[0m\u001b[0m\n\u001b[1;32m----> 3\u001b[1;33m \u001b[0mnames\u001b[0m\u001b[1;33m.\u001b[0m\u001b[0mto_csv\u001b[0m\u001b[1;33m(\u001b[0m\u001b[1;34m'akademisyen_verified.csv'\u001b[0m\u001b[1;33m)\u001b[0m\u001b[1;33m\u001b[0m\u001b[1;33m\u001b[0m\u001b[0m\n\u001b[0m",
      "\u001b[1;31mAttributeError\u001b[0m: 'list' object has no attribute 'to_csv'"
     ]
    }
   ],
   "source": [
    "names = pd.Series(names).unique().tolist()\n",
    "bios = pd.Series(bios).unique().tolist()"
   ]
  },
  {
   "cell_type": "markdown",
   "id": "150f6f09",
   "metadata": {},
   "source": [
    "### Determine Gender by Using Names"
   ]
  },
  {
   "cell_type": "code",
   "execution_count": 75,
   "id": "09211bcf",
   "metadata": {},
   "outputs": [],
   "source": [
    "names_genders_dict = dict()\n",
    "with open('isimler.txt', encoding='utf-8') as file:\n",
    "    for line in file.readlines():\n",
    "        element = line[1:-2].replace(\"\\'\", \"\").replace(' ', '')\n",
    "        name = element.split(',')[0].lower()\n",
    "        gender = element.split(',')[1].lower()\n",
    "        names_genders_dict[name] = gender\n",
    "file.close()\n",
    "\n",
    "def detect_gender(name):\n",
    "    gender = ''\n",
    "    for name_mid in name.split()[:-1]:\n",
    "        if name_mid in names_genders_dict.keys():\n",
    "            gender = names_genders_dict[name_mid]\n",
    "    return gender"
   ]
  },
  {
   "cell_type": "code",
   "execution_count": 65,
   "id": "da72d399",
   "metadata": {
    "collapsed": true
   },
   "outputs": [
    {
     "name": "stdout",
     "output_type": "stream",
     "text": [
      "mutfakta akademisyen : \n",
      "ferit calp (yersiz yurtsuz akademisyen) : e\n",
      "genç akademisyen : e\n",
      "recep öztürk : e\n",
      "ethem alpaydın : e\n",
      "ak akademisyenler : k\n",
      "pinar yolum : k\n",
      "halil i̇brahim yenigün : e\n",
      "doç. dr. halil özşavlı : e\n",
      "hayrullah dogan : e\n",
      "talip küçükcan : e\n",
      "melis behlil : k\n",
      "begum basdas : \n",
      "hakan kara : e\n",
      "göktuğ şahin : e\n",
      "selcen öner : u\n",
      "𝐌𝐞𝐡𝐦𝐞𝐭 𝐀𝐥𝐢 𝐂𝐞𝐯𝐡𝐞𝐫𝐢 : \n",
      "ekmeleddin i̇hsanoğlu : \n",
      "akademisyen bey : \n",
      "akademisyen montu : \n",
      "meraklı akademisyen : \n",
      "akademisyen : \n",
      "x. : \n",
      "i̇hraç akademisyen : \n",
      "akademisyenbey35 : \n",
      "prof. dr. ali gül : e\n",
      "özgür demirtaş : u\n",
      "siradisi akademisyen : \n",
      "öksüz akademisyen : \n",
      "pınar büyükbalcı : k\n",
      "fiber1903 : \n",
      "akademisyen : \n",
      "akademisyenteroru : \n",
      "gurbetçi beşiktaş'lı : \n",
      "akademisyenpark : \n",
      "bir minik akademisyen : \n",
      "akademisyen : \n",
      "ali ağar : e\n",
      "akademisyen : \n",
      "anti akademisyen : \n",
      "doç. dr. ayşe nevin sert : k\n",
      "akademisyen : \n",
      "akademisyen gibi ama degil : \n",
      "akademisyen adam : \n",
      "kemal akademisyen kudurtan : e\n",
      "akademisyen : \n",
      "akademisyen : \n",
      "akademisyen : \n",
      "akademisyen kız : \n",
      "bir olumlama sayfası : \n",
      "akademisyenler : \n",
      "akademisyen : \n",
      "akademisyen : \n",
      "akademisyen terörü : \n",
      "akademisyen : \n",
      "kilicaslanoy, sürgünde akademisyen : \n",
      "muhreç akademisyen : \n",
      "can akademisyen : u\n",
      "polyanna'nın akademisyen hali : \n",
      "akademisyen tercüme : \n",
      "akademisyen bey : \n",
      "tefsir akademi̇syen : \n",
      "dijital akademisyen-ebeveyn : \n",
      "deniz ülke arıboğan : k\n",
      "torpilli akademisyen : \n",
      "meltem ekinci : k\n",
      "dr.sibel özdemi̇r : \n",
      "hasan koyuncu : e\n",
      "bekir bilgi (akademisyen ama öğrenci) : u\n",
      "zeynep direk : k\n",
      "i̇lke ercan : u\n",
      "bitli akademisyen : \n",
      "bir akademisyen : \n",
      "tayyip sabri erdi̇l : e\n",
      "akademisyenplatformu : \n",
      "genc_akademisyen : \n",
      "akademisyen türk : \n",
      "pricat-khk(679) doç.dr. akademisyen : \n",
      "akademisyen anne (doç.)msc,ph.d. eymen&ecrin's mom : \n",
      "alaettin akaydın prof.doç.dr. akademisyen.değilim. : e\n",
      "akademik : \n",
      "dr. özgür bolat : u\n",
      "erhan afyoncu : e\n",
      "dr. m. murat kubilay : e\n",
      "dr gül pamukçu günaydın : k\n",
      "sibel özbudun : k\n",
      "akademisyen : \n",
      "mehmet gökhan genel (doç. dr.) : e\n",
      "m. hayri kirbaşoğlu : e\n",
      "erhan aslanoğlu : e\n",
      "neval oğan balkız : e\n",
      "bülent aksoy : e\n",
      "özlem kumrular : k\n",
      "hunili akademisyen : \n",
      "oğuzhan bilgin : e\n",
      "burhanettin uysal : e\n",
      "ahmet yıldırım : e\n",
      "zeynep bayramoglu : k\n",
      "akademisyenx sitesi : \n",
      "selçuk topal, phd : u\n",
      "barış ve sevgi(akademisyen) : u\n",
      "emre bağce : e\n",
      "ferhat : \n",
      "mahmut çitil : e\n",
      "levent cantek : e\n",
      "alaaddin başar : e\n",
      "serhat hukuk mücadelesi veriyor : e\n",
      "zeki berk : e\n",
      "enver yıldırım : e\n",
      "lale akarun : k\n",
      "emre tilev : e\n",
      "solsoledo : \n",
      "dr. mesut özarslan : u\n",
      "talat canbolat : \n",
      "mehmet öz : e\n",
      "emrah gülsunar : e\n",
      "ulku doganay : \n",
      "deus mortuus est : \n",
      "mehmet tığlı : e\n",
      "kadir ertaç çelik : e\n",
      "dr. bilal okudan : e\n",
      "nejla kurul : k\n",
      "aʏʜᴀɴ sarisu : \n",
      "binhan elif yılmaz, prof.dr. : k\n",
      "hasan hüseyin yıldırım : e\n",
      "ömer durmaz : e\n",
      "umut şumnu : u\n",
      "prof. dr. süreyya sakınç : u\n",
      "dr. ali̇ akdoğan : \n",
      "zahid : \n",
      "oğuz kayabaşı : e\n",
      "akademisyen : \n",
      "barış(akademisyen) : \n",
      "akademisyen ama vakıfta : \n",
      "haci kaya : k\n",
      "merve şenol : k\n",
      "akademisyenanne : \n",
      "mühendis akademisyen dünyam : \n",
      "hacı kaya : \n",
      "akademisyen : \n",
      "nebi sümer : e\n",
      "kim olsun : \n",
      "tolga girici : e\n",
      "gamze : \n",
      "i̇hraç akademisyen : \n",
      "prof.dr. ozan bahar : e\n",
      "kerem yavaşça : e\n",
      "bilim ve akademisyen : \n",
      "akademisyen yarısı : \n",
      "mustafa ketrez : e\n",
      "fotokopici : \n",
      "akademisyen egosu : \n",
      "akademisyen : \n",
      "magdur akademisyen : \n",
      "tezcan durna : u\n",
      "özlem kaygusuz : k\n",
      "yazgülü aldoğan : k\n",
      "akademisyen : \n",
      "saim can beritan : u\n",
      "cansel güven : u\n",
      "gevrekçi akademisyen : \n",
      "bilal okudan : e\n",
      "i̇mre özbek eren : u\n",
      "sedat gümüş : e\n",
      "gökay kalaycıoğlu : u\n",
      "ece baban : u\n",
      "muhammet çakmak : e\n",
      "adnan erdem : e\n",
      "sevimli akademisyen : \n",
      "akademisyen : \n",
      "pınar ecevitoğlu : k\n",
      "pazarcı akademisyen : \n",
      "hakkı başgüney : e\n",
      "kadıköy apartmanları : \n",
      "ahmet emre bilgili : e\n",
      "levent korkut : e\n",
      "dr. yasemin hati̇poğlu : k\n",
      "ömer aytaç aykaç : u\n",
      "prof. dr. akademisyen alim turhan : e\n",
      "akademisyen 18 mart : \n",
      "birikim özgür : \n",
      "av. dr. safa koçoğlu : u\n",
      "akademisyen : \n",
      "karabekir akkoyunlu : \n",
      "recep bozdoğan : e\n",
      "yaşar erdinc : u\n",
      "doç.dr.zeynep müjde sakar : k\n",
      "akademisyenlik.com : \n",
      "sinan tankut gülhan : u\n",
      "prof.dr.zeynep okten : \n",
      "şenol kantarcı : u\n",
      "ali sebetci : e\n",
      "osman yazici : e\n",
      "gökhan bayram : e\n",
      "günal kursun : u\n",
      "bilge adam : u\n",
      "fatih köse : e\n",
      "can ertuna : u\n",
      "ali akmaz : e\n",
      "faruk ekmekci : e\n",
      "zeynep karahan uslu : e\n",
      "dr. cengiz yıldırım : e\n",
      "yüksel bi̇lgi̇li̇ : u\n",
      "dr. i̇brahi̇m uslu : \n",
      "aybars bora : e\n",
      "osman köse : e\n",
      "itır bağdadi : k\n",
      "muhsin kar : e\n",
      "meltem gönden : k\n",
      "sefer darıcı : u\n",
      "tolga erdoğan : e\n",
      "ersindiker : \n",
      "abdullah özkan : e\n",
      "kadir can özel : u\n",
      "prof. dr. oğuz özyaral : e\n",
      "tirşe erbaysal filibeli : \n",
      "diplomasi araştırmaları derneği - dard : \n",
      "prof kemalettinaydi̇n : \n",
      "eren akdeniz : u\n",
      "bülent bal : e\n",
      "rabia karaboyun : k\n",
      "🅴🆁🅼🅽 : \n",
      "serkan ileri : e\n",
      "doç. dr. umut burak geyi̇kçi̇ : e\n",
      "dr. rıdvan karabulut : e\n",
      "doç.dr. muhammed köse : e\n",
      "ömer serkan bakır : e\n",
      "barış karapınar : u\n",
      "murat cihangir : e\n",
      "dr. yüksel nizamoğlu : u\n",
      "hakan gunes : e\n",
      "mustafa kemal yavuzyi̇ği̇t : e\n",
      "ersan başar : k\n",
      "abdullah korkmazhan : e\n",
      "enveryan : \n",
      "ömer tekşen : e\n",
      "abdullah tırabzon : e\n",
      "kamuran gökdağ : k\n",
      "can kazaz : u\n",
      "cetin balanuye : \n",
      "bekir gür : e\n",
      "evrimhikmet : \n",
      "haşim şahin : e\n",
      "fevzi̇ sevgi̇li̇ : \n",
      "metin hülagü : e\n",
      "akademikinsan : \n",
      "ahmet murat aytaç : e\n",
      "umut eldem : u\n",
      "dr. süleyman faki : e\n",
      "ferit salim sanlı : e\n",
      "inan rüma : \n",
      "cihan özdemir : u\n",
      "mustafa sari, prof. dr. : e\n",
      "cemal yıldız : e\n",
      "özgür güleç : u\n",
      "adalet gundemi : k\n",
      "radi hoca : e\n",
      "mehmet şükrü bellibaş : e\n",
      "göksel altınışık ergur : u\n",
      "hatice ş. özütler : k\n",
      "deryahekim, assoc. prof. : \n",
      "deniz i̇nnal : u\n",
      "yalçın köksal demi̇r (emiroğlu) : u\n",
      "oulcan : \n",
      "mezun.com : \n",
      "nihal kocabay : k\n",
      "mustafa çetinkaya : e\n",
      "mustafa budak, prof. dr. : e\n",
      "prof. dr. ayfer şahin : k\n",
      "prof. dr. binyamin birkan, bcba-d : e\n",
      "selçuk doğan : u\n",
      "ali ayten : e\n",
      "prof.dr.murat aksoy : \n",
      "süreyya su : u\n",
      "psikolojik danışman dr. fatih koca : e\n",
      "rasim özcan : e\n",
      "rafet aykut akay : u\n",
      "prof.dr m.fedai çavuş : \n",
      "dr. mustafa karaca : e\n",
      "h. tarık şengül : e\n",
      "atakan durmaz : e\n",
      "ahmet yüksel : e\n",
      "ömer özbi̇len : e\n",
      "eymen namazci : e\n",
      "beyazıt akman : e\n",
      "prof. dr. süleyman şahi̇n : e\n",
      "hakkı gökbel : e\n",
      "bariş adibelli̇ : k\n",
      "zerrin eren : k\n",
      "selçuk koç : u\n",
      "hasan erkek : e\n",
      "yalçın kayacan : e\n",
      "yusuf kotan - يوسف قوتان : e\n",
      "dr. r. haluk söner : e\n",
      "fırat i̇lim : e\n",
      "nesrin drkn : k\n",
      "dr. enes akpinar : e\n",
      "bekir gündoğmuş : e\n",
      "i̇brahim kürşat tuna : e\n",
      "i̇lhan cevheri̇ : e\n",
      "•• tweet yağmuru •• : \n",
      "canan parmaksızoğlu aksoy : u\n",
      "kubilay kaptan : e\n",
      "yıldırım ramazanoğlu : e\n",
      "ahmet alinca : e\n",
      "şerafettin babacan : e\n",
      "ali çakır : e\n",
      "dr. serdal gündüz : e\n",
      "h. hale kunucen : k\n",
      "mehmet öncel : e\n",
      "gökhan bayram : e\n",
      "köksal gökçe : u\n",
      "derya gürtaş dündar : u\n",
      "güner coşkunsu : u\n",
      "doç.dr.bülent sezgin : \n",
      "mef dayanışması : \n",
      "prof.dr r.feynman : \n",
      "can kakışım : u\n",
      "selami özsoy : \n",
      "yurdagül mehmedoğlu : k\n",
      "ayfer dost : k\n",
      "op. dr. mehmet s aslan : e\n",
      "mehmet sercan öğe : u\n",
      "yağmur say : u\n",
      "dr. serhan i uv : e\n",
      "zeynep hocam : k\n",
      "abdullah ince : e\n",
      "hakan çınar : e\n",
      "dr i̇brahim barut : e\n",
      "prof. dr. yüksel özdemir : u\n",
      "i̇smail kavaz : e\n",
      "isilisil : \n",
      "i̇ş kadınları : \n",
      "mürsel teki̇n : e\n",
      "bilal kafka : e\n",
      "kemal antalyevi : e\n",
      "hüseyin latif : e\n",
      "mustafa büte : e\n",
      "murat büyükyılmaz : e\n",
      "gülengül altıntaş : k\n",
      "prof. dr. s.bekmez : \n",
      "mevlüt özben : e\n",
      "i̇srafil aslan : e\n",
      "mehmet ali çelikel : e\n",
      "şakir hüseyin aksöz : e\n",
      "ömer alanka : e\n",
      "tolga özenç özençel : u\n",
      "perrin öğün emre : u\n",
      "şükran pakkan : u\n",
      "isincelebi : \n",
      "prof. dr. saim kılıç : e\n",
      "mustafa yıldıran : e\n",
      "sare terzi̇ i̇lhan : k\n",
      "turgut tok : e\n",
      "hasan basri özdemir : e\n",
      "salih kesgin : e\n",
      "taha riza ozmen : e\n",
      "mikail b. : e\n",
      "ali çağatay kilinç : e\n",
      "mehmet zeki kutlu : e\n",
      "prof dr mine doğantan dack : e\n",
      "akademisyen : \n",
      "meltem onurkan samani : e\n",
      "mehmet akyüz : e\n",
      "damla aktan : k\n",
      "𝓞𝔃𝓰𝓮𝓝𝓮𝓿𝓪 : \n",
      "funda ozan akyol : e\n",
      "prof. dr. talip atalay : e\n",
      "burçin öner : u\n",
      "feyyaz : \n",
      "tuğba çelik korat : e\n",
      "yusuf gençer : e\n",
      "kimliksiz : \n",
      "dr. necmettin acar : e\n",
      "özlem coşan : k\n",
      "i̇sa yavilioğlu : e\n",
      "dilâver cebeci : e\n",
      "büşrank : \n",
      "doç. dr. oğuzhan görler : e\n",
      "mehmet kanoğlu : e\n",
      "ilkim : \n",
      "büşra dilaveroğlu : k\n",
      "dr. ender korkmaz : u\n",
      "neslihan karavi̇n : k\n",
      "evren : \n",
      "orçun yorulmaz : e\n",
      "mehmet serhat yılmaz : e\n",
      "baransel mızrak : e\n",
      "ömercan aydın : e\n",
      "nazim cafersoy : e\n",
      "güney ferhat batı : e\n",
      "mahmud es'ad coşan : e\n",
      "omer livvarcin : \n",
      "selman selim akyüz : e\n",
      "abdurrahman tarikci : e\n",
      "bilgi üni. forumu : u\n",
      "12numara_nl : \n",
      "murat çelik : e\n",
      "zeliha eser : k\n",
      "ayhan biber : u\n",
      "ata atun : e\n",
      "züheyra t. : \n",
      "alpaslan yüce : e\n",
      "ulaş karan : e\n",
      "aslı kotaman : k\n",
      "n. melih kutlu : e\n",
      "ilmenites : \n",
      "muhammed akaydın : e\n",
      "mesut karakulak : u\n",
      "mehmet emin elmacı : e\n",
      "dr. emre göllü : e\n",
      "aydin gunduz : k\n",
      "halil i̇brahim uzun : e\n",
      "irem uzunhasanoğlu : \n",
      "ayse karartı : \n",
      "hülya kasapoğlu çengel : k\n",
      "şeyma afacan : k\n",
      "t.c.nurgül ç.tekin : \n",
      "hakan tartan : e\n",
      "nurettin akcakale : e\n",
      "burçin a. : u\n",
      "dr. mehmet ali nalbant : e\n",
      "yılmaz pekmezcan : e\n",
      "dr. fatma kamiloğlu : k\n",
      "mahmut kelpetin : e\n",
      "fatih yurtbaşı : e\n",
      "nilay özer : k\n",
      "murat varol : e\n",
      "kürşat altınbaş : e\n",
      "yılmaz yazıcıoğlu : e\n",
      "michele cedolin : \n",
      "efkan y : e\n",
      "sinem karaduman : k\n",
      "hülya uğur tanrıöver : u\n",
      "meryem düğer : k\n",
      "olcay akyıldız : u\n",
      "sara veronica : k\n",
      "prof. dr. serdar başbuğ : e\n",
      "gül esra atalay : k\n",
      "bezar eylem ekinci : e\n",
      "doç. dr. ali aytek : e\n",
      "kudret özersay2015 : u\n",
      "abdullah şenaslan : e\n",
      "doç. dr. pelin vardarlıer : k\n",
      "bülent sancal : e\n",
      "uzm.diyetisyen bengül akgün : k\n",
      "merve kavakçi : k\n",
      "dilek dai ozcengiz : e\n",
      "ebru aktan acar : e\n",
      "deniz ışıker : u\n",
      "aytuna tosunoglu : u\n",
      "tolga gül : e\n",
      "#egt matematik : \n",
      "dr. mehmet gürsu : e\n",
      "naz : \n",
      "davut irmak : e\n",
      "kenan deni̇z : e\n",
      "murat alanoğlu : e\n",
      "nur neşe şahin : k\n",
      "ali köstepen : e\n",
      "mehmet şamil : e\n",
      "yücel erdemir : u\n",
      "sinan tarifci : e\n",
      "doruk turhan : e\n",
      "nafiz arıca : e\n",
      "emre con : e\n",
      "erdal şahin : e\n",
      "abdullah eki̇nci̇ : e\n",
      "arda hakan öğretir : e\n",
      "fikret özçelik : u\n",
      "birol mercan : e\n",
      "ray performans : \n",
      "prof. dr. bekir çınar : e\n",
      "naci çağlar : e\n",
      "prof.dr.bünyami ünal : \n",
      "bülent özkan : e\n",
      "i̇lke kızmaz : u\n",
      "behire esra çayhan : k\n",
      "dr. verda gizem ogul : k\n",
      "dr.tuğba arslanoğlu : \n",
      "davutoğlu hoca : \n",
      "kamil yavuz : e\n",
      "cuma hündür : e\n",
      "begum kayar : \n",
      "yavuz yıldırım : e\n",
      "mualla buket soygüt : k\n",
      "tümay mercan : u\n",
      "merve poray : k\n",
      "ejder yıldırım : e\n",
      "oruç yunusoğlu : e\n",
      "altay dikeç : e\n",
      "orhan fatih kuşdemi̇r : e\n",
      "21. yy. türki̇yesi̇ : \n",
      "metin özdemir : e\n",
      "zuhal erol : k\n",
      "yasemin ulutürk sakarya : e\n",
      "bahadır apaydın : e\n",
      "nano_bentonite : \n",
      "dr. erden or : u\n",
      "ergin sarı : e\n",
      "tolga çelik : e\n",
      "tolga gürakar : e\n",
      "mehmet emin yıldız : e\n",
      "veli yilanci : e\n",
      "fatih yardımcıoğlu : e\n",
      "oğuzhan : \n",
      "zafer adiguzel : u\n",
      "emin cihan duyan : u\n",
      "hali̇l türker : \n",
      "erdem tüfekci : e\n",
      "mturk : \n",
      "seydi murat koç : e\n",
      "cumhur seferoğlu : e\n",
      "fatma çakmak : k\n",
      "m. can tanyeli : u\n",
      "nusret i̇lker çolak : e\n",
      "osman güngör : e\n",
      "doç.dr. selim gündüz : e\n",
      "hayri̇ esmer : \n",
      "turgay yavaş : e\n",
      "𝕆𝕫𝕘𝕦𝕣 𝕐𝕀𝕃𝕄𝔸ℤ : \n",
      "mehmet atasever : e\n",
      "dr. zekeriya çelik : e\n",
      "ertuğrul yaman : e\n",
      "gökhan gökgöz : e\n",
      "zp. : \n",
      "serdar nurmedov : e\n",
      "mustafa erkan : e\n",
      "sema bayraktar : k\n",
      "havva tunç, prof. dr. : k\n",
      "emre : \n",
      "dr. ekrem çeli̇ki̇z : e\n",
      "sukranbılır : \n",
      "habip kocak : e\n",
      "yrd.doç.dr.alev mert : \n",
      "mesut koç : u\n",
      "ebru z. boyacıoglu : k\n",
      "mehmet ali sevgi : e\n",
      "cansu topal : u\n"
     ]
    }
   ],
   "source": [
    "genders = []\n",
    "for name in names:\n",
    "    name = name.split('\\n')[0].lower()\n",
    "    gender = detect_gender(name)\n",
    "    print(name, ':', gender)\n",
    "    genders.append(gender)"
   ]
  },
  {
   "cell_type": "code",
   "execution_count": null,
   "id": "8cf9fc39",
   "metadata": {},
   "outputs": [],
   "source": [
    "ages = []\n",
    "bodies = []\n",
    "snippets = []"
   ]
  },
  {
   "cell_type": "markdown",
   "id": "e26ce2a6",
   "metadata": {},
   "source": [
    "### Determine Age by Using Google Search"
   ]
  },
  {
   "cell_type": "code",
   "execution_count": 89,
   "id": "c5f36ff0",
   "metadata": {},
   "outputs": [
    {
     "data": {
      "application/vnd.jupyter.widget-view+json": {
       "model_id": "754735b49f774583928b63337475646e",
       "version_major": 2,
       "version_minor": 0
      },
      "text/plain": [
       "  0%|          | 0/625 [00:00<?, ?it/s]"
      ]
     },
     "metadata": {},
     "output_type": "display_data"
    }
   ],
   "source": [
    "for name in tqdm(names[930:]):\n",
    "    name = name.split('\\n')[0].lower()\n",
    "    sleep(5)\n",
    "    search_link = \"https://www.google.com/search?q=\" + name.replace(' ', '+') + \"+yaşı+nedir\"\n",
    "    driver.get(search_link)\n",
    "    try:\n",
    "        xpath = '//*[@id=\"rso\"]/div[1]/div/div[1]/div[1]/div[1]/div/div[1]/div/div[1]/div[2]/div/div[1]'\n",
    "        age = driver.find_element_by_xpath(xpath).text\n",
    "        ages.append(age)\n",
    "    except:\n",
    "        ages.append('')\n",
    "        pass\n",
    "\n",
    "    try:\n",
    "        xpath = '//*[@id=\"rso\"]/div[1]/div/div[1]/div/div[1]/div'\n",
    "        body = driver.find_element_by_xpath(xpath).text\n",
    "        bodies.append(body)\n",
    "    except:\n",
    "        bodies.append('')\n",
    "\n",
    "    try:\n",
    "        xpath = '//*[@id=\"rso\"]/div[1]/div'\n",
    "        snippet = driver.find_element_by_xpath(xpath).text\n",
    "        snippets.append(snippet)\n",
    "    except:\n",
    "        snippets.append('')\n",
    "        pass"
   ]
  },
  {
   "cell_type": "code",
   "execution_count": 67,
   "id": "7f65916a",
   "metadata": {},
   "outputs": [],
   "source": [
    "result = pd.DataFrame([pd.Series(names).apply(lambda x: x.split('\\n')[0].lower()),\n",
    "             pd.Series(genders),\n",
    "             pd.Series(ages),\n",
    "            pd.Series(bodies),\n",
    "            pd.Series(snippets)]).transpose()\n",
    "result = result.rename({0:'name', 1:'gender', 2:'age', 3:'body', 4:'snippet'}, axis=1).replace('', np.nan)"
   ]
  },
  {
   "cell_type": "code",
   "execution_count": 64,
   "id": "99a086e3",
   "metadata": {},
   "outputs": [
    {
     "data": {
      "text/plain": [
       "['2005']"
      ]
     },
     "execution_count": 64,
     "metadata": {},
     "output_type": "execute_result"
    }
   ],
   "source": [
    "import re\n",
    "text = 'bu adadmın dogum ylı 2005'\n",
    "years = re.findall('([0-9]{4})?', text)\n",
    "[year for year in years if year != '']"
   ]
  },
  {
   "cell_type": "markdown",
   "id": "95c55f9c",
   "metadata": {},
   "source": [
    "### Merge"
   ]
  },
  {
   "cell_type": "code",
   "execution_count": 52,
   "id": "25aca244",
   "metadata": {},
   "outputs": [],
   "source": [
    "gazeteci_verified = pd.read_csv('akademisyen_verified.csv', usecols=[1])['0'].tolist()\n",
    "gazeteciler = pd.read_csv('akademisyenler.csv')\n",
    "usernames = pd.Series(gazeteci_verified).apply(lambda x: x.split('\\n')[1][1:])\n",
    "realnames = pd.Series(gazeteci_verified).apply(lambda x: x.split('\\n')[0].lower())\n",
    "df=pd.DataFrame([usernames, realnames]).transpose().rename(columns={0:'username', 1:'realname'})\n",
    "merged = gazeteciler.merge(df, how='left', left_on='name', right_on='realname')\n",
    "columns_titles = ['number', 'realname', 'username', 'gender', 'age', 'body', 'snippet']\n",
    "merged.reindex(columns=columns_titles).to_csv(\"verified accounts - Akademisyenler - 880.csv\")"
   ]
  },
  {
   "cell_type": "code",
   "execution_count": 71,
   "id": "089cadae",
   "metadata": {},
   "outputs": [],
   "source": [
    "file_list = glob('verified accounts*')\n",
    "cols_to_use = ['realname', 'username', 'gender', 'age', 'body', 'snippet']\n",
    "df = pd.read_csv(file_list[0], usecols=cols_to_use, nrows=0).reindex(columns=cols_to_use)\n",
    "\n",
    "for file in file_list:\n",
    "    df_part = pd.read_csv(file, usecols=cols_to_use).reindex(columns=cols_to_use)\n",
    "    df = df.append(df_part)"
   ]
  },
  {
   "cell_type": "code",
   "execution_count": 82,
   "id": "7debecdc",
   "metadata": {},
   "outputs": [],
   "source": [
    "df['gender_'] = df.realname.astype(str).apply(lambda x: detect_gender(x))\n",
    "df[\"age_\"] = ages\n",
    "df[\"body_\"] = bodies\n",
    "df[\"snippet_\"] = snippet"
   ]
  },
  {
   "cell_type": "markdown",
   "id": "6ddaa222",
   "metadata": {},
   "source": [
    "### Examine"
   ]
  },
  {
   "cell_type": "code",
   "execution_count": 122,
   "id": "3a218628",
   "metadata": {},
   "outputs": [],
   "source": [
    "df_all = pd.read_csv('all_groups.csv')"
   ]
  },
  {
   "cell_type": "code",
   "execution_count": 123,
   "id": "9d931856",
   "metadata": {},
   "outputs": [],
   "source": [
    "df_notna = df_all[df_all.age_.notna()]"
   ]
  },
  {
   "cell_type": "code",
   "execution_count": 124,
   "id": "4273d953",
   "metadata": {},
   "outputs": [],
   "source": [
    "df_notna.age_ = df_notna.age_.apply(lambda x: str(x).replace(' ya??nda', ''))"
   ]
  },
  {
   "cell_type": "code",
   "execution_count": 125,
   "id": "b9269f3e",
   "metadata": {},
   "outputs": [],
   "source": [
    "df_notna.age_ = df_notna.age_.astype(int)"
   ]
  },
  {
   "cell_type": "code",
   "execution_count": 126,
   "id": "d11c5447",
   "metadata": {},
   "outputs": [],
   "source": [
    "categories = pd.cut(df_notna.age_,bins=[17,25,30,35,40,45,50,55,60,65,70,75,80],labels=['17-25','25-30','30-35','35-40','40-45','45-50','50-55','55-60','60-65','65-70','70-75','75-80'])"
   ]
  },
  {
   "cell_type": "code",
   "execution_count": 156,
   "id": "8514ea25",
   "metadata": {},
   "outputs": [
    {
     "data": {
      "text/plain": [
       "(514, 11)"
      ]
     },
     "execution_count": 156,
     "metadata": {},
     "output_type": "execute_result"
    }
   ],
   "source": [
    "df_notna.to_csv(\"all\")"
   ]
  },
  {
   "cell_type": "code",
   "execution_count": 129,
   "id": "1ea154b3",
   "metadata": {},
   "outputs": [],
   "source": [
    "df_notna.insert(10,'Age Group',categories)"
   ]
  },
  {
   "cell_type": "code",
   "execution_count": 157,
   "id": "71f091b0",
   "metadata": {
    "scrolled": true
   },
   "outputs": [
    {
     "data": {
      "text/plain": [
       "<AxesSubplot:ylabel='Frequency'>"
      ]
     },
     "execution_count": 157,
     "metadata": {},
     "output_type": "execute_result"
    },
    {
     "data": {
      "image/png": "[encoded data removed]",
      "text/plain": [
       "<Figure size 432x288 with 1 Axes>"
      ]
     },
     "metadata": {
      "needs_background": "light"
     },
     "output_type": "display_data"
    }
   ],
   "source": [
    "df_notna.age_.plot.hist(bins=5)"
   ]
  },
  {
   "cell_type": "code",
   "execution_count": 163,
   "id": "1948807c",
   "metadata": {},
   "outputs": [
    {
     "data": {
      "text/plain": [
       "<AxesSubplot:>"
      ]
     },
     "execution_count": 163,
     "metadata": {},
     "output_type": "execute_result"
    },
    {
     "data": {
      "image/png": "[encoded data removed]",
      "text/plain": [
       "<Figure size 432x288 with 1 Axes>"
      ]
     },
     "metadata": {
      "needs_background": "light"
     },
     "output_type": "display_data"
    }
   ],
   "source": [
    "df_notna[df_notna['meslek']=='gaz']['Age Group'].value_counts(sort=False).plot.bar() #[df_notna['meslek']=='san']"
   ]
  },
  {
   "cell_type": "code",
   "execution_count": 140,
   "id": "35bcd999",
   "metadata": {},
   "outputs": [
    {
     "data": {
      "text/plain": [
       "array(['aka', 'gaz', 'san', 'sys', 'spr', 'int', 'ogr'], dtype=object)"
      ]
     },
     "execution_count": 140,
     "metadata": {},
     "output_type": "execute_result"
    }
   ],
   "source": [
    "df_notna.meslek.unique()"
   ]
  }
 ],
 "metadata": {
  "kernelspec": {
   "display_name": "Python 3",
   "language": "python",
   "name": "python3"
  },
  "language_info": {
   "codemirror_mode": {
    "name": "ipython",
    "version": 3
   },
   "file_extension": ".py",
   "mimetype": "text/x-python",
   "name": "python",
   "nbconvert_exporter": "python",
   "pygments_lexer": "ipython3",
   "version": "3.8.8"
  }
 },
 "nbformat": 4,
 "nbformat_minor": 5
}
