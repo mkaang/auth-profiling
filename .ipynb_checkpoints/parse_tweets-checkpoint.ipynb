{
 "cells": [
  {
   "cell_type": "code",
   "execution_count": null,
   "id": "abc33442",
   "metadata": {},
   "outputs": [],
   "source": []
  },
  {
   "cell_type": "code",
   "execution_count": 1,
   "id": "9565f3b0",
   "metadata": {},
   "outputs": [
    {
     "ename": "NameError",
     "evalue": "name 'pd' is not defined",
     "output_type": "error",
     "traceback": [
      "\u001b[1;31m---------------------------------------------------------------------------\u001b[0m",
      "\u001b[1;31mNameError\u001b[0m                                 Traceback (most recent call last)",
      "\u001b[1;32m<ipython-input-1-0b91902f4500>\u001b[0m in \u001b[0;36m<module>\u001b[1;34m\u001b[0m\n\u001b[1;32m----> 1\u001b[1;33m \u001b[0mtweets\u001b[0m\u001b[1;33m=\u001b[0m\u001b[0mpd\u001b[0m\u001b[1;33m.\u001b[0m\u001b[0mDataFrame\u001b[0m\u001b[1;33m(\u001b[0m\u001b[0mdata\u001b[0m\u001b[1;33m=\u001b[0m\u001b[1;33m[\u001b[0m\u001b[1;33m]\u001b[0m\u001b[1;33m)\u001b[0m\u001b[1;33m\u001b[0m\u001b[1;33m\u001b[0m\u001b[0m\n\u001b[0m\u001b[0;32m      2\u001b[0m \u001b[1;32mfor\u001b[0m \u001b[0mfile\u001b[0m \u001b[1;32min\u001b[0m \u001b[0mtqdm\u001b[0m\u001b[1;33m(\u001b[0m\u001b[0mglob\u001b[0m\u001b[1;33m(\u001b[0m\u001b[1;34m\"tweets/*\"\u001b[0m\u001b[1;33m)\u001b[0m\u001b[1;33m)\u001b[0m\u001b[1;33m:\u001b[0m\u001b[1;33m\u001b[0m\u001b[1;33m\u001b[0m\u001b[0m\n\u001b[0;32m      3\u001b[0m     \u001b[0mdf_part\u001b[0m \u001b[1;33m=\u001b[0m \u001b[0mpd\u001b[0m\u001b[1;33m.\u001b[0m\u001b[0mread_csv\u001b[0m\u001b[1;33m(\u001b[0m\u001b[0mfile\u001b[0m\u001b[1;33m)\u001b[0m\u001b[1;33m\u001b[0m\u001b[1;33m\u001b[0m\u001b[0m\n\u001b[0;32m      4\u001b[0m     \u001b[0mdf_part\u001b[0m\u001b[1;33m[\u001b[0m\u001b[1;34m'username'\u001b[0m\u001b[1;33m]\u001b[0m \u001b[1;33m=\u001b[0m \u001b[0mstr\u001b[0m\u001b[1;33m(\u001b[0m\u001b[0mfile\u001b[0m\u001b[1;33m.\u001b[0m\u001b[0msplit\u001b[0m\u001b[1;33m(\u001b[0m\u001b[1;34m'\\\\'\u001b[0m\u001b[1;33m)\u001b[0m\u001b[1;33m[\u001b[0m\u001b[1;36m1\u001b[0m\u001b[1;33m]\u001b[0m\u001b[1;33m[\u001b[0m\u001b[1;36m4\u001b[0m\u001b[1;33m:\u001b[0m\u001b[1;33m-\u001b[0m\u001b[1;36m11\u001b[0m\u001b[1;33m]\u001b[0m\u001b[1;33m)\u001b[0m\u001b[1;33m\u001b[0m\u001b[1;33m\u001b[0m\u001b[0m\n\u001b[0;32m      5\u001b[0m     \u001b[0mtweets\u001b[0m \u001b[1;33m=\u001b[0m \u001b[0mtweets\u001b[0m\u001b[1;33m.\u001b[0m\u001b[0mappend\u001b[0m\u001b[1;33m(\u001b[0m\u001b[0mdf_part\u001b[0m\u001b[1;33m)\u001b[0m\u001b[1;33m\u001b[0m\u001b[1;33m\u001b[0m\u001b[0m\n",
      "\u001b[1;31mNameError\u001b[0m: name 'pd' is not defined"
     ]
    }
   ],
   "source": [
    "tweets=pd.DataFrame(data=[])\n",
    "for file in tqdm(glob(\"tweets/*\")):\n",
    "    df_part = pd.read_csv(file)\n",
    "    df_part['username'] = str(file.split('\\\\')[1][4:-11])\n",
    "    tweets = tweets.append(df_part)\n",
    "    \n",
    "tweets.rename(columns={\"0\":\"id_str\", \"1\":\"created_at\", \"2\":\"text\", \"3\":\"entities\", \"4\":\"retweeted\"}, inplace=True)"
   ]
  },
  {
   "cell_type": "code",
   "execution_count": 4,
   "id": "d91c81ee",
   "metadata": {},
   "outputs": [],
   "source": [
    "cols_to_use = ['username', 'realname', 'gender_', 'age_', 'meslek']\n",
    "users_age_gender_1 = pd.read_csv('data/all_groups_notna.csv', usecols=cols_to_use, encoding='utf-8').rename(columns={'age_':'age', 'gender_':'gender'}).drop_duplicates(['username'])\n",
    "users_age_gender_1 = users_age_gender_1[users_age_gender_1.gender.notna()]"
   ]
  },
  {
   "cell_type": "code",
   "execution_count": 5,
   "id": "282b414e",
   "metadata": {},
   "outputs": [],
   "source": [
    "cols_to_use = ['username', 'realname', 'gender', 'age', 'meslek']\n",
    "users_age_gender_2 = pd.read_csv('data/basak.csv', usecols=cols_to_use, encoding='utf-8').drop_duplicates(['username'])\n",
    "users_age_gender_3 = pd.read_csv('data/basak2.csv', usecols=cols_to_use, encoding='utf-8').drop_duplicates(['username'])\n",
    "users_age_gender_4 = pd.read_csv('data/accounts_v3.csv', usecols=cols_to_use, encoding='utf-8').drop_duplicates(['username'])\n",
    "\n",
    "users_age_gender = users_age_gender_1.append(users_age_gender_2).append(users_age_gender_3).append(users_age_gender_4)\n",
    "users_age_gender.dropna(subset=['username', 'gender', 'age'], inplace=True)\n",
    "\n",
    "users_age_gender.age = users_age_gender.age.astype(str).apply(lambda x: x.replace('?','').rstrip().lstrip())\n",
    "users_age_gender.age = users_age_gender.age.astype(str).apply(lambda x: np.nan if x == '' else x)\n",
    "users_age_gender.dropna(subset=['username', 'gender', 'age'], inplace=True)\n",
    "\n",
    "users_age_gender.age = users_age_gender.age.astype(int)\n",
    "users_age_gender = users_age_gender[users_age_gender.gender != 'u']"
   ]
  },
  {
   "cell_type": "code",
   "execution_count": 6,
   "id": "212aec9c",
   "metadata": {},
   "outputs": [
    {
     "data": {
      "text/plain": [
       "(975, 5)"
      ]
     },
     "execution_count": 6,
     "metadata": {},
     "output_type": "execute_result"
    }
   ],
   "source": [
    "users_age_gender.shape"
   ]
  },
  {
   "cell_type": "code",
   "execution_count": 7,
   "id": "1de99a83",
   "metadata": {},
   "outputs": [],
   "source": [
    "users_age_gender.drop_duplicates(subset=['username'], inplace=True)"
   ]
  },
  {
   "cell_type": "code",
   "execution_count": 8,
   "id": "fa80a032",
   "metadata": {},
   "outputs": [
    {
     "data": {
      "text/plain": [
       "(765, 5)"
      ]
     },
     "execution_count": 8,
     "metadata": {},
     "output_type": "execute_result"
    }
   ],
   "source": [
    "users_age_gender.shape"
   ]
  },
  {
   "cell_type": "code",
   "execution_count": 9,
   "id": "af4dd02f",
   "metadata": {
    "scrolled": false
   },
   "outputs": [
    {
     "data": {
      "text/plain": [
       "realname    100\n",
       "username      0\n",
       "gender        0\n",
       "age           0\n",
       "meslek       15\n",
       "dtype: int64"
      ]
     },
     "execution_count": 9,
     "metadata": {},
     "output_type": "execute_result"
    }
   ],
   "source": [
    "users_age_gender.isna().sum()"
   ]
  },
  {
   "cell_type": "code",
   "execution_count": 10,
   "id": "b0795e10",
   "metadata": {
    "scrolled": true
   },
   "outputs": [
    {
     "data": {
      "text/plain": [
       "realname    664\n",
       "username    765\n",
       "gender        2\n",
       "age          62\n",
       "meslek       27\n",
       "dtype: int64"
      ]
     },
     "execution_count": 10,
     "metadata": {},
     "output_type": "execute_result"
    }
   ],
   "source": [
    "users_age_gender.nunique()"
   ]
  },
  {
   "cell_type": "code",
   "execution_count": 11,
   "id": "95ce51e0",
   "metadata": {},
   "outputs": [],
   "source": [
    "df = tweets.merge(users_age_gender, left_on='username', right_on='username', how='left')"
   ]
  },
  {
   "cell_type": "code",
   "execution_count": 12,
   "id": "271c69e3",
   "metadata": {},
   "outputs": [
    {
     "data": {
      "text/plain": [
       "id_str             0\n",
       "created_at         0\n",
       "text               0\n",
       "entities           0\n",
       "retweeted          0\n",
       "username           0\n",
       "realname      252136\n",
       "gender        147108\n",
       "age           147108\n",
       "meslek        191521\n",
       "dtype: int64"
      ]
     },
     "execution_count": 12,
     "metadata": {},
     "output_type": "execute_result"
    }
   ],
   "source": [
    "df.isna().sum()"
   ]
  },
  {
   "cell_type": "code",
   "execution_count": 13,
   "id": "154d33fb",
   "metadata": {},
   "outputs": [
    {
     "data": {
      "text/plain": [
       "785"
      ]
     },
     "execution_count": 13,
     "metadata": {},
     "output_type": "execute_result"
    }
   ],
   "source": [
    "df.username.nunique()"
   ]
  },
  {
   "cell_type": "code",
   "execution_count": 14,
   "id": "c95f57e6",
   "metadata": {
    "scrolled": true
   },
   "outputs": [
    {
     "name": "stdout",
     "output_type": "stream",
     "text": [
      "729 729\n"
     ]
    }
   ],
   "source": [
    "print(df.dropna(subset=['age']).username.nunique(),\n",
    "df.dropna(subset=['gender']).username.nunique())"
   ]
  },
  {
   "cell_type": "code",
   "execution_count": 15,
   "id": "f7a66d7f",
   "metadata": {},
   "outputs": [],
   "source": [
    "df.dropna(subset=['age'],inplace=True)\n",
    "df.dropna(subset=['gender'],inplace=True)"
   ]
  },
  {
   "cell_type": "code",
   "execution_count": 39,
   "id": "e277ece4",
   "metadata": {},
   "outputs": [],
   "source": [
    "from sklearn import preprocessing\n",
    "le = preprocessing.LabelEncoder()\n",
    "df['gender_enc'] = le.fit_transform(df.gender.astype(str))\n",
    "\n",
    "# 17den küçük iki kişi varmış onları da aldım şimdi\n",
    "categories = pd.cut(df.age.astype(int),\n",
    "                    bins=[0,30,40,50,60,1000],\n",
    "                    labels=['17-30','31-40','41-50','51-60','61+'])\n",
    "df.insert(len(df.columns),'age_group',categories)\n",
    "\n",
    "le = preprocessing.LabelEncoder()\n",
    "df['age_enc'] = le.fit_transform(df.age_group.astype(str))"
   ]
  },
  {
   "cell_type": "code",
   "execution_count": 40,
   "id": "e1a82d14",
   "metadata": {},
   "outputs": [
    {
     "data": {
      "text/html": [
       "<div>\n",
       "<style scoped>\n",
       "    .dataframe tbody tr th:only-of-type {\n",
       "        vertical-align: middle;\n",
       "    }\n",
       "\n",
       "    .dataframe tbody tr th {\n",
       "        vertical-align: top;\n",
       "    }\n",
       "\n",
       "    .dataframe thead th {\n",
       "        text-align: right;\n",
       "    }\n",
       "</style>\n",
       "<table border=\"1\" class=\"dataframe\">\n",
       "  <thead>\n",
       "    <tr style=\"text-align: right;\">\n",
       "      <th></th>\n",
       "      <th>id_str</th>\n",
       "      <th>created_at</th>\n",
       "      <th>text</th>\n",
       "      <th>entities</th>\n",
       "      <th>retweeted</th>\n",
       "      <th>username</th>\n",
       "      <th>realname</th>\n",
       "      <th>gender</th>\n",
       "      <th>age</th>\n",
       "      <th>meslek</th>\n",
       "      <th>gender_enc</th>\n",
       "      <th>age_group</th>\n",
       "      <th>age_enc</th>\n",
       "    </tr>\n",
       "  </thead>\n",
       "  <tbody>\n",
       "    <tr>\n",
       "      <th>0</th>\n",
       "      <td>1444292738468438024</td>\n",
       "      <td>2021-10-02 13:26:37+00:00</td>\n",
       "      <td>RT @Bozoklularr: Herkesin üniversitesi açılmış...</td>\n",
       "      <td>{'hashtags': [], 'symbols': [], 'user_mentions...</td>\n",
       "      <td>False</td>\n",
       "      <td>0hilalarslan</td>\n",
       "      <td>NaN</td>\n",
       "      <td>k</td>\n",
       "      <td>18.0</td>\n",
       "      <td>ogr</td>\n",
       "      <td>1</td>\n",
       "      <td>17-30</td>\n",
       "      <td>0</td>\n",
       "    </tr>\n",
       "    <tr>\n",
       "      <th>1</th>\n",
       "      <td>1443862721607446530</td>\n",
       "      <td>2021-10-01 08:57:53+00:00</td>\n",
       "      <td>2021-YKS tweetlerini okumak.. çok güzel bi duy...</td>\n",
       "      <td>{'hashtags': [], 'symbols': [], 'user_mentions...</td>\n",
       "      <td>False</td>\n",
       "      <td>0hilalarslan</td>\n",
       "      <td>NaN</td>\n",
       "      <td>k</td>\n",
       "      <td>18.0</td>\n",
       "      <td>ogr</td>\n",
       "      <td>1</td>\n",
       "      <td>17-30</td>\n",
       "      <td>0</td>\n",
       "    </tr>\n",
       "    <tr>\n",
       "      <th>2</th>\n",
       "      <td>1443669188564996106</td>\n",
       "      <td>2021-09-30 20:08:51+00:00</td>\n",
       "      <td>Bugün de sana nasılsın diyemeden geçti</td>\n",
       "      <td>{'hashtags': [], 'symbols': [], 'user_mentions...</td>\n",
       "      <td>False</td>\n",
       "      <td>0hilalarslan</td>\n",
       "      <td>NaN</td>\n",
       "      <td>k</td>\n",
       "      <td>18.0</td>\n",
       "      <td>ogr</td>\n",
       "      <td>1</td>\n",
       "      <td>17-30</td>\n",
       "      <td>0</td>\n",
       "    </tr>\n",
       "    <tr>\n",
       "      <th>3</th>\n",
       "      <td>1443222355686346757</td>\n",
       "      <td>2021-09-29 14:33:18+00:00</td>\n",
       "      <td>Ya bu eylül ayı neden bitmiyo.. neden yani? Sa...</td>\n",
       "      <td>{'hashtags': [], 'symbols': [], 'user_mentions...</td>\n",
       "      <td>False</td>\n",
       "      <td>0hilalarslan</td>\n",
       "      <td>NaN</td>\n",
       "      <td>k</td>\n",
       "      <td>18.0</td>\n",
       "      <td>ogr</td>\n",
       "      <td>1</td>\n",
       "      <td>17-30</td>\n",
       "      <td>0</td>\n",
       "    </tr>\n",
       "    <tr>\n",
       "      <th>4</th>\n",
       "      <td>1443127153021923329</td>\n",
       "      <td>2021-09-29 08:14:59+00:00</td>\n",
       "      <td>Ulan yaa kdhdkdhkdhdk\\n(Dooru bu arada) :D htt...</td>\n",
       "      <td>{'hashtags': [], 'symbols': [], 'user_mentions...</td>\n",
       "      <td>False</td>\n",
       "      <td>0hilalarslan</td>\n",
       "      <td>NaN</td>\n",
       "      <td>k</td>\n",
       "      <td>18.0</td>\n",
       "      <td>ogr</td>\n",
       "      <td>1</td>\n",
       "      <td>17-30</td>\n",
       "      <td>0</td>\n",
       "    </tr>\n",
       "  </tbody>\n",
       "</table>\n",
       "</div>"
      ],
      "text/plain": [
       "                id_str                 created_at  \\\n",
       "0  1444292738468438024  2021-10-02 13:26:37+00:00   \n",
       "1  1443862721607446530  2021-10-01 08:57:53+00:00   \n",
       "2  1443669188564996106  2021-09-30 20:08:51+00:00   \n",
       "3  1443222355686346757  2021-09-29 14:33:18+00:00   \n",
       "4  1443127153021923329  2021-09-29 08:14:59+00:00   \n",
       "\n",
       "                                                text  \\\n",
       "0  RT @Bozoklularr: Herkesin üniversitesi açılmış...   \n",
       "1  2021-YKS tweetlerini okumak.. çok güzel bi duy...   \n",
       "2             Bugün de sana nasılsın diyemeden geçti   \n",
       "3  Ya bu eylül ayı neden bitmiyo.. neden yani? Sa...   \n",
       "4  Ulan yaa kdhdkdhkdhdk\\n(Dooru bu arada) :D htt...   \n",
       "\n",
       "                                            entities  retweeted      username  \\\n",
       "0  {'hashtags': [], 'symbols': [], 'user_mentions...      False  0hilalarslan   \n",
       "1  {'hashtags': [], 'symbols': [], 'user_mentions...      False  0hilalarslan   \n",
       "2  {'hashtags': [], 'symbols': [], 'user_mentions...      False  0hilalarslan   \n",
       "3  {'hashtags': [], 'symbols': [], 'user_mentions...      False  0hilalarslan   \n",
       "4  {'hashtags': [], 'symbols': [], 'user_mentions...      False  0hilalarslan   \n",
       "\n",
       "  realname gender   age meslek  gender_enc age_group  age_enc  \n",
       "0      NaN      k  18.0    ogr           1     17-30        0  \n",
       "1      NaN      k  18.0    ogr           1     17-30        0  \n",
       "2      NaN      k  18.0    ogr           1     17-30        0  \n",
       "3      NaN      k  18.0    ogr           1     17-30        0  \n",
       "4      NaN      k  18.0    ogr           1     17-30        0  "
      ]
     },
     "execution_count": 40,
     "metadata": {},
     "output_type": "execute_result"
    }
   ],
   "source": [
    "df.head()"
   ]
  },
  {
   "cell_type": "code",
   "execution_count": 3,
   "id": "974f8f1a",
   "metadata": {},
   "outputs": [],
   "source": [
    "# column_titles=['sentence1', 'label', 'id', 'conversation_id', 'created_at', 'date', 'time', 'timezone',\n",
    "#        'user_id', 'username', 'name', 'place',  'language',\n",
    "#        'mentions', 'urls', 'photos', 'replies_count', 'retweets_count',\n",
    "#        'likes_count', 'hashtags', 'cashtags', 'link', 'retweet', 'quote_url',\n",
    "#        'video', 'thumbnail', 'near', 'geo', 'source', 'user_rt_id', 'user_rt',\n",
    "#        'retweet_id', 'reply_to', 'retweet_date', 'translate', 'trans_src',\n",
    "#        'trans_dest', 'realname', 'gender', 'age', 'body', 'snippet', 'gender_',\n",
    "#        'age_', 'body_', 'meslek', 'Age Group', 'age_enc']\n",
    "\n",
    "# df = df.rename(columns={'tweet':'sentence1', 'gender_enc':'label'}).reindex(columns=column_titles)"
   ]
  },
  {
   "cell_type": "code",
   "execution_count": 41,
   "id": "06dbd5e7",
   "metadata": {},
   "outputs": [],
   "source": [
    "df.to_csv('tweet_data_normalized.csv',index=False)"
   ]
  }
 ],
 "metadata": {
  "kernelspec": {
   "display_name": "Python 3",
   "language": "python",
   "name": "python3"
  },
  "language_info": {
   "codemirror_mode": {
    "name": "ipython",
    "version": 3
   },
   "file_extension": ".py",
   "mimetype": "text/x-python",
   "name": "python",
   "nbconvert_exporter": "python",
   "pygments_lexer": "ipython3",
   "version": "3.8.8"
  }
 },
 "nbformat": 4,
 "nbformat_minor": 5
}
