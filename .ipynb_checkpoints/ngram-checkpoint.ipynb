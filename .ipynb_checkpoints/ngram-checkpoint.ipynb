{
 "cells": [
  {
   "cell_type": "code",
   "execution_count": 6,
   "id": "180661ab",
   "metadata": {},
   "outputs": [],
   "source": [
    "import pandas as pd\n",
    "import numpy as np\n",
    "\n",
    "from tqdm.auto import tqdm\n",
    "\n",
    "from sklearn.svm import SVC\n",
    "from sklearn.ensemble import RandomForestClassifier\n",
    "from sklearn.metrics import f1_score, accuracy_score, precision_score, recall_score\n",
    "\n",
    "from sklearn.utils import compute_class_weight\n",
    "\n",
    "from sklearn.feature_extraction.text import TfidfVectorizer\n",
    "\n",
    "import scipy"
   ]
  },
  {
   "cell_type": "code",
   "execution_count": 7,
   "id": "bdda8a7d",
   "metadata": {},
   "outputs": [],
   "source": [
    "def progress_transform(serie, vectorizer, chunk_size = 10_000):\n",
    "    number_chunks = len(serie) // chunk_size\n",
    "    tf_idf_matrix = scipy.sparse.csr.csr_matrix([])\n",
    "    for c, chunk in tqdm(enumerate(np.array_split(serie, number_chunks))):\n",
    "        if not c:\n",
    "            tf_idf_matrix = vectorizer.transform(chunk)\n",
    "        else:\n",
    "            tf_idf_matrix_part = vectorizer.transform(chunk)\n",
    "            tf_idf_matrix = scipy.sparse.vstack((tf_idf_matrix, tf_idf_matrix_part))\n",
    "\n",
    "    return tf_idf_matrix"
   ]
  },
  {
   "cell_type": "code",
   "execution_count": 8,
   "id": "faea97ec",
   "metadata": {},
   "outputs": [],
   "source": [
    "def concat_tweets(df, column):\n",
    "    \"\"\"\n",
    "    concatenates tweets for each user\n",
    "    returns dataframe including usernames and corresponding concatenated tweets\n",
    "    \"\"\"\n",
    "    map_user = list()\n",
    "    map_tweets = list()\n",
    "    \n",
    "    for user in tqdm(df.username.unique()):\n",
    "        map_user.append(user)\n",
    "        tweets_concat = \" \".join(df[df.username == user][column].values)\n",
    "        map_tweets.append(tweets_concat)\n",
    "        \n",
    "    return pd.DataFrame({\"username\":map_user, \"tw_concat\":map_tweets}, columns=[\"username\", \"tw_concat\"])"
   ]
  },
  {
   "cell_type": "code",
   "execution_count": 9,
   "id": "c3403e50",
   "metadata": {},
   "outputs": [],
   "source": [
    "train=pd.read_csv(\"tweets_train.csv\", low_memory=False)\n",
    "test=pd.read_csv(\"tweets_test.csv\", low_memory=False)"
   ]
  },
  {
   "cell_type": "code",
   "execution_count": 11,
   "id": "db00983b",
   "metadata": {},
   "outputs": [],
   "source": [
    "train.dropna(subset=[\"processed_text\"], inplace=True)\n",
    "test.dropna(subset=[\"processed_text\"], inplace=True)"
   ]
  },
  {
   "cell_type": "code",
   "execution_count": 31,
   "id": "0529d716",
   "metadata": {},
   "outputs": [
    {
     "name": "stdout",
     "output_type": "stream",
     "text": [
      "2020\n"
     ]
    },
    {
     "data": {
      "application/vnd.jupyter.widget-view+json": {
       "model_id": "328494e4a0ae45b89dcb7ab7efcfb892",
       "version_major": 2,
       "version_minor": 0
      },
      "text/plain": [
       "  0%|          | 0/541 [00:00<?, ?it/s]"
      ]
     },
     "metadata": {},
     "output_type": "display_data"
    },
    {
     "data": {
      "application/vnd.jupyter.widget-view+json": {
       "model_id": "42f534ca8e95436f976805a3192fb427",
       "version_major": 2,
       "version_minor": 0
      },
      "text/plain": [
       "  0%|          | 0/140 [00:00<?, ?it/s]"
      ]
     },
     "metadata": {},
     "output_type": "display_data"
    },
    {
     "data": {
      "application/vnd.jupyter.widget-view+json": {
       "model_id": "4293293f345d4ece821acf411148a526",
       "version_major": 2,
       "version_minor": 0
      },
      "text/plain": [
       "0it [00:00, ?it/s]"
      ]
     },
     "metadata": {},
     "output_type": "display_data"
    },
    {
     "data": {
      "application/vnd.jupyter.widget-view+json": {
       "model_id": "2fc40d096ad348f681518545a9e8e924",
       "version_major": 2,
       "version_minor": 0
      },
      "text/plain": [
       "0it [00:00, ?it/s]"
      ]
     },
     "metadata": {},
     "output_type": "display_data"
    },
    {
     "data": {
      "application/vnd.jupyter.widget-view+json": {
       "model_id": "5c97d73361934259a2124450a77444d2",
       "version_major": 2,
       "version_minor": 0
      },
      "text/plain": [
       "0it [00:00, ?it/s]"
      ]
     },
     "metadata": {},
     "output_type": "display_data"
    },
    {
     "name": "stderr",
     "output_type": "stream",
     "text": [
      "C:\\ProgramData\\Anaconda3\\lib\\site-packages\\sklearn\\metrics\\_classification.py:1245: UndefinedMetricWarning: Recall is ill-defined and being set to 0.0 in labels with no true samples. Use `zero_division` parameter to control this behavior.\n",
      "  _warn_prf(average, modifier, msg_start, len(result))\n"
     ]
    },
    {
     "name": "stdout",
     "output_type": "stream",
     "text": [
      "age_enc SVC f1: 0.253, acc: 0.457, pre: 0.306, rec: 0.218\n"
     ]
    },
    {
     "data": {
      "application/vnd.jupyter.widget-view+json": {
       "model_id": "f83dae4a8425463dbceb6bac8a3b5198",
       "version_major": 2,
       "version_minor": 0
      },
      "text/plain": [
       "0it [00:00, ?it/s]"
      ]
     },
     "metadata": {},
     "output_type": "display_data"
    },
    {
     "name": "stderr",
     "output_type": "stream",
     "text": [
      "C:\\ProgramData\\Anaconda3\\lib\\site-packages\\sklearn\\metrics\\_classification.py:1245: UndefinedMetricWarning: Recall is ill-defined and being set to 0.0 in labels with no true samples. Use `zero_division` parameter to control this behavior.\n",
      "  _warn_prf(average, modifier, msg_start, len(result))\n"
     ]
    },
    {
     "name": "stdout",
     "output_type": "stream",
     "text": [
      "age_enc RandomForestClassifier f1: 0.216, acc: 0.400, pre: 0.260, rec: 0.211\n"
     ]
    },
    {
     "data": {
      "application/vnd.jupyter.widget-view+json": {
       "model_id": "4a1610b109254e21baa7ec2d2304081d",
       "version_major": 2,
       "version_minor": 0
      },
      "text/plain": [
       "0it [00:00, ?it/s]"
      ]
     },
     "metadata": {},
     "output_type": "display_data"
    },
    {
     "name": "stdout",
     "output_type": "stream",
     "text": [
      "gender_enc SVC f1: 0.586, acc: 0.707, pre: 0.475, rec: 0.763\n"
     ]
    },
    {
     "data": {
      "application/vnd.jupyter.widget-view+json": {
       "model_id": "2e8e46e64a4c4f49ab2d9d13e5a8dc13",
       "version_major": 2,
       "version_minor": 0
      },
      "text/plain": [
       "0it [00:00, ?it/s]"
      ]
     },
     "metadata": {},
     "output_type": "display_data"
    },
    {
     "name": "stdout",
     "output_type": "stream",
     "text": [
      "gender_enc RandomForestClassifier f1: 0.588, acc: 0.700, pre: 0.492, rec: 0.732\n",
      "2019\n"
     ]
    },
    {
     "data": {
      "application/vnd.jupyter.widget-view+json": {
       "model_id": "a9f3cc99cf564e8ab1cdb53d1af9e357",
       "version_major": 2,
       "version_minor": 0
      },
      "text/plain": [
       "  0%|          | 0/551 [00:00<?, ?it/s]"
      ]
     },
     "metadata": {},
     "output_type": "display_data"
    },
    {
     "data": {
      "application/vnd.jupyter.widget-view+json": {
       "model_id": "b0c112df8fd04720887993f174f7c0d4",
       "version_major": 2,
       "version_minor": 0
      },
      "text/plain": [
       "  0%|          | 0/145 [00:00<?, ?it/s]"
      ]
     },
     "metadata": {},
     "output_type": "display_data"
    },
    {
     "data": {
      "application/vnd.jupyter.widget-view+json": {
       "model_id": "26143bb8adcb4e51837ea8cd0cb5bc41",
       "version_major": 2,
       "version_minor": 0
      },
      "text/plain": [
       "0it [00:00, ?it/s]"
      ]
     },
     "metadata": {},
     "output_type": "display_data"
    },
    {
     "data": {
      "application/vnd.jupyter.widget-view+json": {
       "model_id": "82ccfa63ad284b5a9b2fea645d02c21d",
       "version_major": 2,
       "version_minor": 0
      },
      "text/plain": [
       "0it [00:00, ?it/s]"
      ]
     },
     "metadata": {},
     "output_type": "display_data"
    },
    {
     "data": {
      "application/vnd.jupyter.widget-view+json": {
       "model_id": "35c3f8734aa24388b6ef97fb5d6f6b4b",
       "version_major": 2,
       "version_minor": 0
      },
      "text/plain": [
       "0it [00:00, ?it/s]"
      ]
     },
     "metadata": {},
     "output_type": "display_data"
    },
    {
     "name": "stderr",
     "output_type": "stream",
     "text": [
      "C:\\ProgramData\\Anaconda3\\lib\\site-packages\\sklearn\\metrics\\_classification.py:1245: UndefinedMetricWarning: Recall is ill-defined and being set to 0.0 in labels with no true samples. Use `zero_division` parameter to control this behavior.\n",
      "  _warn_prf(average, modifier, msg_start, len(result))\n"
     ]
    },
    {
     "name": "stdout",
     "output_type": "stream",
     "text": [
      "age_enc SVC f1: 0.287, acc: 0.483, pre: 0.331, rec: 0.288\n"
     ]
    },
    {
     "data": {
      "application/vnd.jupyter.widget-view+json": {
       "model_id": "3acced28bf3e4f5dbf56a897b0f0b259",
       "version_major": 2,
       "version_minor": 0
      },
      "text/plain": [
       "0it [00:00, ?it/s]"
      ]
     },
     "metadata": {},
     "output_type": "display_data"
    },
    {
     "name": "stderr",
     "output_type": "stream",
     "text": [
      "C:\\ProgramData\\Anaconda3\\lib\\site-packages\\sklearn\\metrics\\_classification.py:1245: UndefinedMetricWarning: Recall is ill-defined and being set to 0.0 in labels with no true samples. Use `zero_division` parameter to control this behavior.\n",
      "  _warn_prf(average, modifier, msg_start, len(result))\n"
     ]
    },
    {
     "name": "stdout",
     "output_type": "stream",
     "text": [
      "age_enc RandomForestClassifier f1: 0.244, acc: 0.414, pre: 0.279, rec: 0.244\n"
     ]
    },
    {
     "data": {
      "application/vnd.jupyter.widget-view+json": {
       "model_id": "04326091397d46738ff875287c77d23e",
       "version_major": 2,
       "version_minor": 0
      },
      "text/plain": [
       "0it [00:00, ?it/s]"
      ]
     },
     "metadata": {},
     "output_type": "display_data"
    },
    {
     "name": "stdout",
     "output_type": "stream",
     "text": [
      "gender_enc SVC f1: 0.588, acc: 0.710, pre: 0.484, rec: 0.750\n"
     ]
    },
    {
     "data": {
      "application/vnd.jupyter.widget-view+json": {
       "model_id": "128d7a45abfe40d991e5056f5c3910cb",
       "version_major": 2,
       "version_minor": 0
      },
      "text/plain": [
       "0it [00:00, ?it/s]"
      ]
     },
     "metadata": {},
     "output_type": "display_data"
    },
    {
     "name": "stdout",
     "output_type": "stream",
     "text": [
      "gender_enc RandomForestClassifier f1: 0.667, acc: 0.745, pre: 0.597, rec: 0.755\n",
      "2018\n"
     ]
    },
    {
     "data": {
      "application/vnd.jupyter.widget-view+json": {
       "model_id": "079414897e52452681736b5ded44ba6b",
       "version_major": 2,
       "version_minor": 0
      },
      "text/plain": [
       "  0%|          | 0/557 [00:00<?, ?it/s]"
      ]
     },
     "metadata": {},
     "output_type": "display_data"
    },
    {
     "data": {
      "application/vnd.jupyter.widget-view+json": {
       "model_id": "d847a38748934b6bb489394cfa51d89c",
       "version_major": 2,
       "version_minor": 0
      },
      "text/plain": [
       "  0%|          | 0/146 [00:00<?, ?it/s]"
      ]
     },
     "metadata": {},
     "output_type": "display_data"
    },
    {
     "data": {
      "application/vnd.jupyter.widget-view+json": {
       "model_id": "fa2ea8f49e274b91b2f4e002decd3036",
       "version_major": 2,
       "version_minor": 0
      },
      "text/plain": [
       "0it [00:00, ?it/s]"
      ]
     },
     "metadata": {},
     "output_type": "display_data"
    },
    {
     "data": {
      "application/vnd.jupyter.widget-view+json": {
       "model_id": "23bbdecc970c4cc29be19be99a316873",
       "version_major": 2,
       "version_minor": 0
      },
      "text/plain": [
       "0it [00:00, ?it/s]"
      ]
     },
     "metadata": {},
     "output_type": "display_data"
    },
    {
     "data": {
      "application/vnd.jupyter.widget-view+json": {
       "model_id": "af29e2d5293e47209981580a7bbf6a9b",
       "version_major": 2,
       "version_minor": 0
      },
      "text/plain": [
       "0it [00:00, ?it/s]"
      ]
     },
     "metadata": {},
     "output_type": "display_data"
    },
    {
     "name": "stderr",
     "output_type": "stream",
     "text": [
      "C:\\ProgramData\\Anaconda3\\lib\\site-packages\\sklearn\\metrics\\_classification.py:1245: UndefinedMetricWarning: Recall is ill-defined and being set to 0.0 in labels with no true samples. Use `zero_division` parameter to control this behavior.\n",
      "  _warn_prf(average, modifier, msg_start, len(result))\n"
     ]
    },
    {
     "name": "stdout",
     "output_type": "stream",
     "text": [
      "age_enc SVC f1: 0.285, acc: 0.479, pre: 0.330, rec: 0.279\n"
     ]
    },
    {
     "data": {
      "application/vnd.jupyter.widget-view+json": {
       "model_id": "8a9cc8214d7f4f89b396717f5eb2a767",
       "version_major": 2,
       "version_minor": 0
      },
      "text/plain": [
       "0it [00:00, ?it/s]"
      ]
     },
     "metadata": {},
     "output_type": "display_data"
    },
    {
     "name": "stderr",
     "output_type": "stream",
     "text": [
      "C:\\ProgramData\\Anaconda3\\lib\\site-packages\\sklearn\\metrics\\_classification.py:1245: UndefinedMetricWarning: Recall is ill-defined and being set to 0.0 in labels with no true samples. Use `zero_division` parameter to control this behavior.\n",
      "  _warn_prf(average, modifier, msg_start, len(result))\n"
     ]
    },
    {
     "name": "stdout",
     "output_type": "stream",
     "text": [
      "age_enc RandomForestClassifier f1: 0.261, acc: 0.459, pre: 0.308, rec: 0.259\n"
     ]
    },
    {
     "data": {
      "application/vnd.jupyter.widget-view+json": {
       "model_id": "69d31fff17dc4497bca65c8f0532dd5d",
       "version_major": 2,
       "version_minor": 0
      },
      "text/plain": [
       "0it [00:00, ?it/s]"
      ]
     },
     "metadata": {},
     "output_type": "display_data"
    },
    {
     "name": "stdout",
     "output_type": "stream",
     "text": [
      "gender_enc SVC f1: 0.629, acc: 0.733, pre: 0.532, rec: 0.767\n"
     ]
    },
    {
     "data": {
      "application/vnd.jupyter.widget-view+json": {
       "model_id": "9bbd5a60b8ea44bfb47e21f91b9e5479",
       "version_major": 2,
       "version_minor": 0
      },
      "text/plain": [
       "0it [00:00, ?it/s]"
      ]
     },
     "metadata": {},
     "output_type": "display_data"
    },
    {
     "name": "stdout",
     "output_type": "stream",
     "text": [
      "gender_enc RandomForestClassifier f1: 0.667, acc: 0.747, pre: 0.597, rec: 0.755\n"
     ]
    }
   ],
   "source": [
    "YEARS = [2020, 2019, 2018]\n",
    "\n",
    "for YEAR in YEARS:\n",
    "    for max_features in [5_000, 10_000]:\n",
    "        \n",
    "        print(YEAR)\n",
    "        train_year = train[train.year.isin(range(YEAR,2022))]\n",
    "        test_year = test[test.year.isin(range(YEAR,2022))]\n",
    "\n",
    "        map_user_tweet_tr = concat_tweets(train_year, 'processed_text')\n",
    "        map_user_tweet_ts = concat_tweets(test_year, 'processed_text')\n",
    "\n",
    "        merged_tr = map_user_tweet_tr.merge(train[['username',\n",
    "                           'realname','meslek', 'age_group',\n",
    "                           'age_enc', 'gender', 'gender_enc']].drop_duplicates(subset=['username']), how=\"left\", left_on=\"username\", right_on=\"username\")\n",
    "\n",
    "        merged_ts = map_user_tweet_ts.merge(test[['username',\n",
    "                           'realname','meslek', 'age_group',\n",
    "                           'age_enc', 'gender', 'gender_enc']].drop_duplicates(subset=['username']), how=\"left\", left_on=\"username\", right_on=\"username\")\n",
    "\n",
    "        vectorizer = TfidfVectorizer(ngram_range=(1,2), \n",
    "                             max_features=max_features,\n",
    "                             analyzer='word')\n",
    "\n",
    "        fitted_vectorizer = vectorizer.fit(merged_tr.tw_concat)\n",
    "\n",
    "        train_vecs_csr = progress_transform(merged_tr.tw_concat, fitted_vectorizer, chunk_size = 100)\n",
    "        test_vecs_csr = progress_transform(merged_ts.tw_concat, fitted_vectorizer, chunk_size = 100)\n",
    "\n",
    "\n",
    "        labels = labels = [\"age_enc\", \"gender_enc\"]\n",
    "        BIAS = False\n",
    "\n",
    "        for label in labels:\n",
    "\n",
    "            models = [SVC(), RandomForestClassifier()]\n",
    "\n",
    "            if BIAS:\n",
    "                classes = merged_tr[label].unique().tolist()\n",
    "                classWeight = compute_class_weight('balanced', classes, merged_tr[label]) \n",
    "                classWeight = dict(enumerate(classWeight))\n",
    "                models = [SVC(class_weight=classWeight), RandomForestClassifier(class_weight=classWeight)]\n",
    "\n",
    "            for model_to_fit in models:\n",
    "                # fit model\n",
    "                model = model_to_fit\n",
    "                model.fit(train_vecs_csr, merged_tr[label])\n",
    "\n",
    "                preds=list()\n",
    "                for test_vec_csr in tqdm(test_vecs_csr):\n",
    "                    pred = model.predict(test_vec_csr)[0]\n",
    "                    preds.append(pred)\n",
    "\n",
    "                average = None\n",
    "                if merged_ts[label].nunique() > 2:\n",
    "                    average = 'macro'\n",
    "                else:\n",
    "                    average = 'binary'\n",
    "\n",
    "                print(label, type(model).__name__, \"f1:\", \"{:.3f},\".format(f1_score(preds, merged_ts[label], average=average)),\n",
    "                    \"acc:\", \"{:.3f},\".format(accuracy_score(preds, merged_ts[label])),\n",
    "                     \"pre:\", \"{:.3f},\".format(precision_score(preds, merged_ts[label], average=average)),\n",
    "                     \"rec:\", \"{:.3f}\".format(recall_score(preds, merged_ts[label], average=average)))"
   ]
  }
 ],
 "metadata": {
  "kernelspec": {
   "display_name": "Python 3",
   "language": "python",
   "name": "python3"
  },
  "language_info": {
   "codemirror_mode": {
    "name": "ipython",
    "version": 3
   },
   "file_extension": ".py",
   "mimetype": "text/x-python",
   "name": "python",
   "nbconvert_exporter": "python",
   "pygments_lexer": "ipython3",
   "version": "3.8.8"
  }
 },
 "nbformat": 4,
 "nbformat_minor": 5
}
