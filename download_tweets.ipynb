{
 "cells": [
  {
   "cell_type": "code",
   "execution_count": 1,
   "id": "a2989cf8",
   "metadata": {},
   "outputs": [],
   "source": [
    "import pandas as pd\n",
    "import numpy as np\n",
    "import csv \n",
    "import twint\n",
    "import tweepy\n",
    "\n",
    "from tqdm.auto import tqdm\n",
    "from glob import glob\n",
    "import subprocess\n",
    "import logging\n",
    "from time import sleep"
   ]
  },
  {
   "cell_type": "code",
   "execution_count": 2,
   "id": "a27ecc02",
   "metadata": {},
   "outputs": [
    {
     "name": "stdout",
     "output_type": "stream",
     "text": [
      "username    729\n",
      "dtype: int64 username    961\n",
      "dtype: int64\n"
     ]
    }
   ],
   "source": [
    "print(pd.read_csv('data/tweet_data.csv', usecols=['username']).nunique(),\n",
    "pd.read_csv('data/accounts_v4.csv', usecols=['username']).nunique())"
   ]
  },
  {
   "cell_type": "code",
   "execution_count": 10,
   "id": "6d0e6b6c",
   "metadata": {},
   "outputs": [
    {
     "name": "stdout",
     "output_type": "stream",
     "text": [
      "962 1106 44\n"
     ]
    }
   ],
   "source": [
    "# usernames = pd.read_csv('data/all_groups_notna.csv', usecols=['username'])\n",
    "usernames = pd.read_csv('data/accounts_v4.csv', usecols=['username'])\n",
    "usernames_exist = [x.split('\\\\')[1][4:-11] for x in glob(\"tweets/*\")]\n",
    "usernames_not_exist = set(usernames.username) - set(usernames_exist)\n",
    "\n",
    "print(set(usernames.username).__len__(), len(set(usernames_exist)), len(set(usernames_not_exist)))"
   ]
  },
  {
   "cell_type": "markdown",
   "id": "a1288206",
   "metadata": {},
   "source": [
    "### Use Twint"
   ]
  },
  {
   "cell_type": "code",
   "execution_count": 4,
   "id": "3a596a39",
   "metadata": {},
   "outputs": [
    {
     "data": {
      "text/plain": [
       "{'tags': ['hide-input']}"
      ]
     },
     "execution_count": 4,
     "metadata": {},
     "output_type": "execute_result"
    }
   ],
   "source": [
    "# import datetime\n",
    "\n",
    "# start_date = datetime.date(2016, 9, 25)\n",
    "# end_date = datetime.date(2021, 9, 25)\n",
    "# delta = datetime.timedelta(days=1)"
   ]
  },
  {
   "cell_type": "code",
   "execution_count": null,
   "id": "823edf30",
   "metadata": {
    "collapsed": true
   },
   "outputs": [
    {
     "data": {
      "application/vnd.jupyter.widget-view+json": {
       "model_id": "b3bc5b1c582743e480700e2c52162f88",
       "version_major": 2,
       "version_minor": 0
      },
      "text/plain": [
       "  0%|          | 0/4 [00:00<?, ?it/s]"
      ]
     },
     "metadata": {},
     "output_type": "display_data"
    },
    {
     "data": {
      "application/vnd.jupyter.widget-view+json": {
       "model_id": "df887c6183e649cd8b7b45b1810b4757",
       "version_major": 2,
       "version_minor": 0
      },
      "text/plain": [
       "0it [00:00, ?it/s]"
      ]
     },
     "metadata": {},
     "output_type": "display_data"
    },
    {
     "name": "stdout",
     "output_type": "stream",
     "text": [
      "jale_balci\n"
     ]
    }
   ],
   "source": [
    "# logging.basicConfig(level=logging.INFO, filename='scrap_tweets.logs')\n",
    "\n",
    "# for c, username in tqdm(enumerate(tqdm(usernames_not_exist))):\n",
    "#     print(username)\n",
    "#     start_date = datetime.date(2016, 9, 25)\n",
    "#     end_date = datetime.date(2021, 9, 25)\n",
    "#     delta = datetime.timedelta(days=1)\n",
    "    \n",
    "#     while start_date <= end_date:\n",
    "        \n",
    "#         prev_date = start_date\n",
    "#         start_date += delta\n",
    "#         next_date = start_date\n",
    "        \n",
    "#         try:\n",
    "#             proc = subprocess.call('twint -u ' + username +\n",
    "#                                    ' --since ' + str(prev_date) + ' --until ' + str(next_date) +\n",
    "#                                    ' -o tweets_unauth/' + username + str(prev_date) + '_' + str(next_date) +'.json --json' ,\n",
    "#                                    shell=True)\n",
    "#         except:\n",
    "#             logging.info(username)\n",
    "            \n",
    "# df = pd.read_csv('tweets_.csv', nrows=0, index_col=0)\n",
    "\n",
    "# for c, username in tqdm(enumerate(usernames['username'][:175])):\n",
    "#     try:\n",
    "#         df_part = pd.io.json.read_json( 'tweets/' + username + '.json', lines=True)\n",
    "#         df = df.append(df_part)\n",
    "#     except:\n",
    "#         pass\n",
    "    \n",
    "# bir kişi için yaklaşık 5 yıllık tweetleri toplaması 1.5 sa sürüyor\n",
    "# bir kişi için 1 yıllık tweetler 18 dk diyebiliriz\n",
    "# sleep olmalı ard arda gönderince almayabiliyor\n",
    "# ard arda günleri alabiliyoruz şu ana kadar olan kısım için sıkıntı gözükmüyor"
   ]
  },
  {
   "cell_type": "markdown",
   "id": "ca58a64b",
   "metadata": {},
   "source": [
    "### Use Tweepy"
   ]
  },
  {
   "cell_type": "code",
   "execution_count": 4,
   "id": "9f6b1dc8",
   "metadata": {},
   "outputs": [],
   "source": [
    "CONSUMER_KEY = \"HV3NOqxeREj1Cs766k5q69DhY\"\n",
    "CONSUMER_SECRET = \"FU5ueTZ6SHXTGJxLDBVSg33ZWayUIBA7kPILQzGxcPA6jZcV23\"\n",
    "ACCESS_TOKEN = \"784850369008529409-eqP4dFbxyrvhSAAjzIxDfIiQIzsycHy\"\n",
    "ACCESS_TOKEN_SECRET = \"GkEkRL2BI80oPo6KXTjzRAx4sHYwwoYY81OMkvquWLJJv\"\n",
    "\n",
    "# Authenticate to Twitter\n",
    "auth = tweepy.OAuthHandler(CONSUMER_KEY, CONSUMER_SECRET)\n",
    "auth.set_access_token(ACCESS_TOKEN, ACCESS_TOKEN_SECRET)\n",
    "\n",
    "# Create API object\n",
    "api = tweepy.API(auth)"
   ]
  },
  {
   "cell_type": "code",
   "execution_count": 6,
   "id": "ea6817e7",
   "metadata": {},
   "outputs": [],
   "source": [
    "def get_all_tweets(screen_name):\n",
    "    \n",
    "    # Authenticate to Twitter\n",
    "    auth = tweepy.OAuthHandler(CONSUMER_KEY, CONSUMER_SECRET)\n",
    "    auth.set_access_token(ACCESS_TOKEN, ACCESS_TOKEN_SECRET)\n",
    "\n",
    "    # Create API object\n",
    "    api = tweepy.API(auth)\n",
    "    \n",
    "    #initialize a list to hold all the tweepy Tweets\n",
    "    alltweets = []  \n",
    "    \n",
    "    #make initial request for most recent tweets (200 is the maximum allowed count)\n",
    "    new_tweets = api.user_timeline(screen_name = screen_name,count=200)\n",
    "    \n",
    "    #save most recent tweets\n",
    "    alltweets.extend(new_tweets)\n",
    "    \n",
    "    #save the id of the oldest tweet less one\n",
    "    oldest = alltweets[-1].id - 1\n",
    "    \n",
    "    #keep grabbing tweets until there are no tweets left to grab\n",
    "    while len(new_tweets) > 0:\n",
    "        #print(f\"getting tweets before {oldest}\")\n",
    "        \n",
    "        \n",
    "        #all subsiquent requests use the max_id param to prevent duplicates\n",
    "        new_tweets = api.user_timeline(screen_name = screen_name,count=200,max_id=oldest)\n",
    "        \n",
    "        #save most recent tweets\n",
    "        alltweets.extend(new_tweets)\n",
    "        \n",
    "        #update the id of the oldest tweet less one\n",
    "        oldest = alltweets[-1].id - 1\n",
    "        \n",
    "        #print(f\"...{len(alltweets)} tweets downloaded so far\")\n",
    "        print(\"{:.2f}\".format(len(alltweets)/3220), end=\"\\r\")\n",
    "              \n",
    "    \n",
    "#     df = _\n",
    "    \n",
    "#     with tqdm(total=len(alltweets)) as pbar:\n",
    "#         for c, tweet in enumerate(alltweets):\n",
    "#             if not c:\n",
    "#                 df = pd.json_normalize(tweet._json)\n",
    "#             else:\n",
    "#                 df = df.append(pd.json_normalize(tweet._json))\n",
    "            \n",
    "#             pbar.update(1)\n",
    "            \n",
    "#     df.to_csv(f'new_{screen_name}_tweets.csv', index=False)\n",
    "            \n",
    "    \n",
    "    #transform the tweepy tweets into a 2D array that will populate the csv \n",
    "    outtweets = [[tweet.id_str, tweet.created_at, tweet.text, tweet.entities, tweet.retweeted] for tweet in alltweets]\n",
    "    \n",
    "    pd.DataFrame(data=outtweets).to_csv('tweets/new_' + screen_name + '_tweets.csv', index=False)\n",
    "    \n",
    "#     #write the csv  \n",
    "#     with open(f'new_{screen_name}_tweets.csv', 'w') as f:\n",
    "#         writer = csv.writer(f)\n",
    "#         writer.writerow([\"id\",\"created_at\",\"text\"])\n",
    "#         writer.writerows(outtweets)\n",
    "    \n",
    "#     pass"
   ]
  },
  {
   "cell_type": "code",
   "execution_count": 9,
   "id": "aa7b1cb1",
   "metadata": {
    "collapsed": true
   },
   "outputs": [
    {
     "name": "stderr",
     "output_type": "stream",
     "text": [
      "  0%|          | 0/44 [00:00<?, ?it/s]"
     ]
    },
    {
     "name": "stdout",
     "output_type": "stream",
     "text": [
      "1.01\r"
     ]
    },
    {
     "name": "stderr",
     "output_type": "stream",
     "text": [
      "  2%|▏         | 1/44 [00:15<10:58, 15.31s/it]"
     ]
    },
    {
     "name": "stdout",
     "output_type": "stream",
     "text": [
      "1.00\r"
     ]
    },
    {
     "name": "stderr",
     "output_type": "stream",
     "text": [
      " 16%|█▌        | 7/44 [00:36<01:15,  2.03s/it]"
     ]
    },
    {
     "name": "stdout",
     "output_type": "stream",
     "text": [
      "0.83\r"
     ]
    },
    {
     "name": "stderr",
     "output_type": "stream",
     "text": [
      " 25%|██▌       | 11/44 [00:56<01:27,  2.67s/it]"
     ]
    },
    {
     "name": "stdout",
     "output_type": "stream",
     "text": [
      "0.95\r"
     ]
    },
    {
     "name": "stderr",
     "output_type": "stream",
     "text": [
      " 36%|███▋      | 16/44 [01:17<00:59,  2.14s/it]"
     ]
    },
    {
     "name": "stdout",
     "output_type": "stream",
     "text": [
      "1.00\r"
     ]
    },
    {
     "name": "stderr",
     "output_type": "stream",
     "text": [
      " 57%|█████▋    | 25/44 [01:40<00:15,  1.19it/s]"
     ]
    },
    {
     "name": "stdout",
     "output_type": "stream",
     "text": [
      "0.14\r"
     ]
    },
    {
     "name": "stderr",
     "output_type": "stream",
     "text": [
      " 64%|██████▎   | 28/44 [01:49<00:27,  1.73s/it]"
     ]
    },
    {
     "name": "stdout",
     "output_type": "stream",
     "text": [
      "0.38\r"
     ]
    },
    {
     "name": "stderr",
     "output_type": "stream",
     "text": [
      " 86%|████████▋ | 38/44 [02:04<00:03,  1.71it/s]"
     ]
    },
    {
     "name": "stdout",
     "output_type": "stream",
     "text": [
      "0.72\r"
     ]
    },
    {
     "name": "stderr",
     "output_type": "stream",
     "text": [
      " 91%|█████████ | 40/44 [02:20<00:15,  3.83s/it]"
     ]
    },
    {
     "name": "stdout",
     "output_type": "stream",
     "text": [
      "0.99\r"
     ]
    },
    {
     "name": "stderr",
     "output_type": "stream",
     "text": [
      " 98%|█████████▊| 43/44 [02:40<00:04,  4.23s/it]"
     ]
    },
    {
     "name": "stdout",
     "output_type": "stream",
     "text": [
      "0.14\r"
     ]
    },
    {
     "name": "stderr",
     "output_type": "stream",
     "text": [
      "100%|██████████| 44/44 [02:48<00:00,  3.83s/it]\n"
     ]
    }
   ],
   "source": [
    "for userID in tqdm(usernames_not_exist):\n",
    "    try:\n",
    "        get_all_tweets(userID)\n",
    "        sleep(5)\n",
    "    except:\n",
    "        pass"
   ]
  },
  {
   "cell_type": "markdown",
   "id": "6a53be0b",
   "metadata": {},
   "source": [
    "### Statistics"
   ]
  },
  {
   "cell_type": "markdown",
   "id": "c8a6d462",
   "metadata": {},
   "source": [
    "- kullanıcı başına (hist)\n",
    "    - toplam kaç tweet\n",
    "- yıl başına (hist)\n",
    "    - toplam kaç tweet\n",
    "- kalanlar neden inmemiş\n",
    "- temel modeller (n-gram, bert, -parametrik girdi-, fasstext)\n",
    "- yaş dağılımı dengeli olmalı "
   ]
  },
  {
   "cell_type": "code",
   "execution_count": 11,
   "id": "4570cf84",
   "metadata": {},
   "outputs": [],
   "source": [
    "import pandas as pd\n",
    "df = pd.read_csv('tweet_data.csv')"
   ]
  },
  {
   "cell_type": "markdown",
   "id": "4c8774a3",
   "metadata": {},
   "source": [
    "#### Number of tweets throughout months"
   ]
  },
  {
   "cell_type": "code",
   "execution_count": 8,
   "id": "59b0bdae",
   "metadata": {},
   "outputs": [],
   "source": [
    "df['date_month'] = df.created_at.apply(lambda x: x[:7])"
   ]
  },
  {
   "cell_type": "code",
   "execution_count": 11,
   "id": "a7669fc8",
   "metadata": {
    "scrolled": false
   },
   "outputs": [
    {
     "data": {
      "text/plain": [
       "<AxesSubplot:xlabel='date_month'>"
      ]
     },
     "execution_count": 11,
     "metadata": {},
     "output_type": "execute_result"
    },
    {
     "data": {
      "image/png": "[encoded data removed]",
      "text/plain": [
       "<Figure size 432x288 with 1 Axes>"
      ]
     },
     "metadata": {
      "needs_background": "light"
     },
     "output_type": "display_data"
    }
   ],
   "source": [
    "df_part = df[df.meslek=='ogr']\n",
    "tw_counts_by_year = pd.Series(df_part.groupby('date_month')['id_str'].count()).sort_index()\n",
    "tw_counts_by_year[-36:].plot.bar()"
   ]
  },
  {
   "cell_type": "markdown",
   "id": "703655ab",
   "metadata": {},
   "source": [
    "It seem that students are dominant in the total number of tweets expecially in recent months."
   ]
  },
  {
   "cell_type": "code",
   "execution_count": 90,
   "id": "b88376a5",
   "metadata": {},
   "outputs": [
    {
     "data": {
      "text/plain": [
       "<AxesSubplot:xlabel='date_month'>"
      ]
     },
     "execution_count": 90,
     "metadata": {},
     "output_type": "execute_result"
    },
    {
     "data": {
      "image/png": "[encoded data removed]",
      "text/plain": [
       "<Figure size 432x288 with 1 Axes>"
      ]
     },
     "metadata": {
      "needs_background": "light"
     },
     "output_type": "display_data"
    }
   ],
   "source": [
    "# A sample ogr user tweets' distribution over months\n",
    "df[df.username=='mr_aytas'].groupby('date_month')['id_str'].count().sort_index().plot.bar()"
   ]
  }
 ],
 "metadata": {
  "kernelspec": {
   "display_name": "Python 3",
   "language": "python",
   "name": "python3"
  },
  "language_info": {
   "codemirror_mode": {
    "name": "ipython",
    "version": 3
   },
   "file_extension": ".py",
   "mimetype": "text/x-python",
   "name": "python",
   "nbconvert_exporter": "python",
   "pygments_lexer": "ipython3",
   "version": "3.8.6"
  }
 },
 "nbformat": 4,
 "nbformat_minor": 5
}
