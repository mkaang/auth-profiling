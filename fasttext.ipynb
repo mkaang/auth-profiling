{
 "cells": [
  {
   "cell_type": "code",
   "execution_count": 1,
   "id": "ef81436a",
   "metadata": {},
   "outputs": [],
   "source": [
    "import pandas as pd\n",
    "import numpy as np\n",
    "\n",
    "from tqdm.auto import tqdm"
   ]
  },
  {
   "cell_type": "code",
   "execution_count": 3,
   "id": "7105c1f1",
   "metadata": {},
   "outputs": [],
   "source": [
    "train=pd.read_csv(\"data/user_tweets_train.csv\")\n",
    "test=pd.read_csv(\"data/user_tweets_test.csv\")"
   ]
  },
  {
   "cell_type": "code",
   "execution_count": 4,
   "id": "234e2ce7",
   "metadata": {},
   "outputs": [],
   "source": [
    "def format_data(df, label, filename):\n",
    "    a = df[label].apply(lambda x: \"__label__\"+str(x)).values.tolist()\n",
    "    b = df[\"tw_concat_processed_text\"]\n",
    "    data = [\"{} {}\".format(a_, b_) for a_, b_ in zip(a, b)]\n",
    "    \n",
    "    with open(filename, encoding='utf-8', mode='w') as f:\n",
    "        for line in data:\n",
    "            f.write(line)\n",
    "            f.write('\\n')\n",
    "    f.close"
   ]
  },
  {
   "cell_type": "code",
   "execution_count": 6,
   "id": "38ec6f84",
   "metadata": {},
   "outputs": [],
   "source": [
    "import fasttext\n",
    "from sklearn.metrics import f1_score, accuracy_score, precision_score, recall_score\n",
    "\n",
    "results = pd.DataFrame([])\n",
    "\n",
    "for label in ['age_enc','gender_enc']:\n",
    "\n",
    "    format_data(train, label, \"data/fasttext/train_{}.txt\".format(label))\n",
    "    format_data(test, label, \"data/fasttext/test_{}.txt\".format(label))\n",
    "    # mid = 3 * train.shape[0] // 4\n",
    "    # format_data(train[mid:], label, \"fasttext/valid_{}.txt\".format(label))\n",
    "    \n",
    "    # model = fasttext.train_supervised(input=\"fasttext/train_{}.txt\".format(label),\n",
    "    # #                                   epoch=epoch, lr=lr, wordNgrams=2, loss='ova')\n",
    "    # #                                  autotuneValidationFile='fasttext/valid_{}.txt'.format(label), \n",
    "    # #                                  autotuneDuration=600, autotuneModelSize=\"100M\"\n",
    "    #                                   epoch=10, \n",
    "    #                                     dim=300,\n",
    "    #                                     wordNgrams=2,\n",
    "    #                                     pretrainedVectors=\"fasttext/cc.tr.300.vec\")\n",
    "    \n",
    "    # preds = list()\n",
    "    # for preprocessed_text_ts in tqdm(test.processed_text):\n",
    "    #     pred = model.predict(preprocessed_text_ts)\n",
    "    #     preds.append(pred)\n",
    "\n",
    "    # preds = [pred[0][0][-1:] for pred in preds]\n",
    "    # preds = pd.Series(preds).astype(int)\n",
    "\n",
    "    # average = None\n",
    "    # if label == \"gender_enc\":\n",
    "    #     average = 'binary'\n",
    "    # else:\n",
    "    #     average = 'macro'\n",
    "    \n",
    "    # f1 = \"{:.3f}\".format(f1_score(preds, test[label], average=average))\n",
    "    # acc = \"{:.3f}\".format(accuracy_score(preds, test[label]))\n",
    "    # pre = \"{:.3f}\".format(precision_score(preds, test[label], average=average))\n",
    "    # rec = \"{:.3f}\".format(recall_score(preds, test[label], average=average))\n",
    "\n",
    "    # results.append([f1, acc, pre, rec])"
   ]
  },
  {
   "cell_type": "code",
   "execution_count": null,
   "id": "c4c20461",
   "metadata": {},
   "outputs": [],
   "source": [
    "pd.DataFrame(results, columns=[\"f1\",\"acc\",\"pre\",\"rec\"])"
   ]
  }
 ],
 "metadata": {
  "kernelspec": {
   "display_name": "Python 3",
   "language": "python",
   "name": "python3"
  },
  "language_info": {
   "codemirror_mode": {
    "name": "ipython",
    "version": 3
   },
   "file_extension": ".py",
   "mimetype": "text/x-python",
   "name": "python",
   "nbconvert_exporter": "python",
   "pygments_lexer": "ipython3",
   "version": "3.9.7"
  }
 },
 "nbformat": 4,
 "nbformat_minor": 5
}
